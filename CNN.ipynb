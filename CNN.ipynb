{
  "nbformat": 4,
  "nbformat_minor": 0,
  "metadata": {
    "colab": {
      "name": "CNN.ipynb",
      "provenance": [],
      "collapsed_sections": [],
      "mount_file_id": "https://github.com/billy90834/DL/blob/main/CNN.ipynb",
      "authorship_tag": "ABX9TyMTPA2Vy2SRE6dzO/fJfIht",
      "include_colab_link": true
    },
    "kernelspec": {
      "name": "python3",
      "display_name": "Python 3"
    },
    "language_info": {
      "name": "python"
    },
    "accelerator": "GPU"
  },
  "cells": [
    {
      "cell_type": "markdown",
      "metadata": {
        "id": "view-in-github",
        "colab_type": "text"
      },
      "source": [
        "<a href=\"https://colab.research.google.com/github/billy90834/DL/blob/main/CNN.ipynb\" target=\"_parent\"><img src=\"https://colab.research.google.com/assets/colab-badge.svg\" alt=\"Open In Colab\"/></a>"
      ]
    },
    {
      "cell_type": "code",
      "execution_count": 51,
      "metadata": {
        "id": "JSdnR7VdfqJI"
      },
      "outputs": [],
      "source": [
        "import os\n",
        "# Ignore  the warnings\n",
        "import matplotlib.pyplot as plt\n",
        "import numpy as np\n",
        "import pandas as pd\n",
        "import cv2\n",
        "import seaborn as sns\n",
        "import random as rn\n",
        "from sklearn.model_selection import train_test_split\n",
        "import glob as gb\n",
        "#imports \n",
        "from tensorflow import keras\n",
        "from tensorflow.keras import layers\n",
        "from tensorflow.keras.layers.experimental import preprocessing\n",
        "from sklearn.metrics import confusion_matrix, classification_report\n",
        "\n",
        "import tensorflow as tf\n",
        "from tensorflow.keras.preprocessing import image_dataset_from_directory\n",
        "from keras.preprocessing.image import ImageDataGenerator\n",
        "\n"
      ]
    },
    {
      "cell_type": "code",
      "source": [
        "#資料分類\n",
        "#获取所有的图片路径名，存放到对应的列表中，同时贴上标签，存放到列表中。\n",
        "x_ = list()\n",
        "y = list()\n",
        "IMG_SIZE = 128\n",
        "##Daisy\n",
        "for i in os.listdir(\"/content/drive/MyDrive/flowers/daisy\"):\n",
        "    try:\n",
        "        path = \"/content/drive/MyDrive/flowers/daisy/\"+i\n",
        "        img = plt.imread(path)\n",
        "        img = cv2.resize(img,(IMG_SIZE,IMG_SIZE))\n",
        "        x_.append(img)\n",
        "        y.append(0)\n",
        "    except:\n",
        "        None\n",
        "##Dandelion\n",
        "for i in os.listdir(\"/content/drive/MyDrive/flowers/dandelion\"):\n",
        "    try:\n",
        "        path = \"/content/drive/MyDrive/flowers/dandelion/\"+i\n",
        "        img = plt.imread(path)\n",
        "        img = cv2.resize(img,(IMG_SIZE,IMG_SIZE))\n",
        "        x_.append(img)\n",
        "        y.append(1)\n",
        "    except:\n",
        "        None\n",
        "##Rose\n",
        "for i in os.listdir(\"/content/drive/MyDrive/flowers/rose\"):\n",
        "    try:\n",
        "        path = \"/content/drive/MyDrive/flowers/rose/\"+i\n",
        "        img = plt.imread(path)\n",
        "        img = cv2.resize(img,(IMG_SIZE,IMG_SIZE))\n",
        "        x_.append(img)\n",
        "        y.append(2)\n",
        "    except:\n",
        "        None\n",
        "##Sunflower\n",
        "for i in os.listdir(\"/content/drive/MyDrive/flowers/sunflower\"):\n",
        "    try:\n",
        "        path = \"/content/drive/MyDrive/flowers/sunflower/\"+i\n",
        "        img = plt.imread(path)\n",
        "        img = cv2.resize(img,(IMG_SIZE,IMG_SIZE))\n",
        "        x_.append(img)\n",
        "        y.append(3)\n",
        "    except:\n",
        "        None\n",
        "##Tulip\n",
        "for i in os.listdir(\"/content/drive/MyDrive/flowers/tulip\"):\n",
        "    try:\n",
        "        path = \"/content/drive/MyDrive/flowers/tulip/\"+i\n",
        "        img = plt.imread(path)\n",
        "        img = cv2.resize(img,(IMG_SIZE,IMG_SIZE))\n",
        "        x_.append(img)\n",
        "        y.append(4)\n",
        "    except:\n",
        "        None\n",
        "x_ = np.array(x_)"
      ],
      "metadata": {
        "id": "m-68gJ_95K4d"
      },
      "execution_count": 2,
      "outputs": []
    },
    {
      "cell_type": "code",
      "source": [
        "# preprocessing data\n",
        "from keras.utils.np_utils import to_categorical\n",
        "y = to_categorical(y,num_classes = 5)  # y 值轉成 one-hot encoding,分類數=5"
      ],
      "metadata": {
        "id": "cd1nIncw6eMo"
      },
      "execution_count": 3,
      "outputs": []
    },
    {
      "cell_type": "code",
      "source": [
        "# train and test split\n",
        "x_train,x_test,y_train,y_test = train_test_split(x_,y,test_size = 0.15,random_state = 42)\n",
        "# validation and trains split\n",
        "x_train,x_val,y_train,y_val = train_test_split(x_train,y_train,test_size = 0.15,random_state = 42)"
      ],
      "metadata": {
        "id": "sE6xwMUu6uR-"
      },
      "execution_count": 4,
      "outputs": []
    },
    {
      "cell_type": "code",
      "source": [
        "x_train.shape,x_test.shape,x_val.shape"
      ],
      "metadata": {
        "colab": {
          "base_uri": "https://localhost:8080/"
        },
        "id": "7G_xaGVp7ix9",
        "outputId": "a08c09f3-248d-4655-81e5-dec8f4c12ff9"
      },
      "execution_count": null,
      "outputs": [
        {
          "output_type": "execute_result",
          "data": {
            "text/plain": [
              "((3118, 128, 128, 3), (648, 128, 128, 3), (551, 128, 128, 3))"
            ]
          },
          "metadata": {},
          "execution_count": 5
        }
      ]
    },
    {
      "cell_type": "code",
      "source": [
        "# image data augmentation 資料增強=>加強CNN辨識率\n",
        "datagen = ImageDataGenerator(\n",
        "        featurewise_center=False,  # set input mean to 0 over the dataset\n",
        "        samplewise_center=False,  # set each sample mean to 0\n",
        "        featurewise_std_normalization=False,  # divide inputs by std of the dataset\n",
        "        samplewise_std_normalization=False,  # divide each input by its std\n",
        "        zca_whitening=False,  # apply ZCA whitening\n",
        "        rotation_range=10,  # randomly rotate images in the range (degrees, 0 to 180)\n",
        "        zoom_range = 0.1, # Randomly zoom image \n",
        "        width_shift_range=0.2,  # randomly shift images horizontally (fraction of total width)\n",
        "        height_shift_range=0.2,  # randomly shift images vertically (fraction of total height)\n",
        "        horizontal_flip=True,  # randomly flip images\n",
        "        vertical_flip=False)  # randomly flip images\n",
        "\n",
        "datagen.fit(x_train)"
      ],
      "metadata": {
        "id": "YShqNBMf1HfL"
      },
      "execution_count": 5,
      "outputs": []
    },
    {
      "cell_type": "code",
      "source": [
        "#data可視化\n",
        "sns.barplot(x=['tulip','roses','dandelion','sunflower','daisy'] , y=[len(os.listdir('/content/drive/MyDrive/flowers/tulip')),\n",
        "                                    len(os.listdir('/content/drive/MyDrive/flowers/rose')),\n",
        "                                    len(os.listdir('/content/drive/MyDrive/flowers/dandelion')),\n",
        "                                    len(os.listdir('/content/drive/MyDrive/flowers/sunflower')),\n",
        "                                    len(os.listdir('/content/drive/MyDrive/flowers/daisy'))])"
      ],
      "metadata": {
        "colab": {
          "base_uri": "https://localhost:8080/",
          "height": 282
        },
        "id": "ln2G2Q09fdxP",
        "outputId": "cc25122d-8796-461f-b518-04af9e80f36f"
      },
      "execution_count": null,
      "outputs": [
        {
          "output_type": "execute_result",
          "data": {
            "text/plain": [
              "<matplotlib.axes._subplots.AxesSubplot at 0x7f708f7b0e90>"
            ]
          },
          "metadata": {},
          "execution_count": 17
        },
        {
          "output_type": "display_data",
          "data": {
            "text/plain": [
              "<Figure size 432x288 with 1 Axes>"
            ],
            "image/png": "[encoded data removed]"
          },
          "metadata": {
            "needs_background": "light"
          }
        }
      ]
    },
    {
      "cell_type": "code",
      "source": [
        "##影像資料增補\n",
        "data_augmentation = keras.Sequential([\n",
        "    preprocessing.RandomZoom(0.1),\n",
        "    preprocessing.RandomFlip(mode=\"horizontal\"),\n",
        "    preprocessing.RandomRotation(factor=0.1),\n",
        "    \n",
        "])"
      ],
      "metadata": {
        "id": "p6ls7KgHmkAW"
      },
      "execution_count": 6,
      "outputs": []
    },
    {
      "cell_type": "code",
      "source": [
        "epoch = 50 # 定義訓練週期\n",
        "batch_size = 32 # 定義梯度下降批量"
      ],
      "metadata": {
        "id": "n8blfrRX8uCe"
      },
      "execution_count": 7,
      "outputs": []
    },
    {
      "cell_type": "code",
      "source": [
        "# 建立的模型\n",
        "model = keras.Sequential([\n",
        "    # 第一層convolution\n",
        "    tf.keras.layers.Conv2D(64, (3,3), activation='relu', input_shape=(128, 128, 3)),\n",
        "    # 找2*2裡最大\n",
        "    tf.keras.layers.MaxPooling2D(2, 2),\n",
        "    tf.keras.layers.Conv2D(64, (3,3), activation='relu'),\n",
        "    tf.keras.layers.MaxPooling2D(2,2),\n",
        "    tf.keras.layers.Conv2D(128, (3,3), activation='relu'),\n",
        "    tf.keras.layers.MaxPooling2D(2,2),\n",
        "    tf.keras.layers.Conv2D(128, (3,3), activation='relu'),\n",
        "    tf.keras.layers.MaxPooling2D(2,2),\n",
        "    # 變成一維陣列\n",
        "    tf.keras.layers.Flatten(),\n",
        "    tf.keras.layers.Dropout(0.5),\n",
        "    # 512 neuron hidden layer\n",
        "    tf.keras.layers.Dense(512, activation='relu'),\n",
        "    tf.keras.layers.Dense(5, activation='softmax') # 使用 softmax activation function，將結果分類\n",
        "])"
      ],
      "metadata": {
        "id": "8m8K9_7U9je2"
      },
      "execution_count": 36,
      "outputs": []
    },
    {
      "cell_type": "code",
      "source": [
        "# 輸出模型摘要資訊\n",
        "model.summary()"
      ],
      "metadata": {
        "colab": {
          "base_uri": "https://localhost:8080/"
        },
        "id": "jH64FlfYs9Jh",
        "outputId": "8b6a00b6-a0c3-4a78-da08-ed2dc0ea1541"
      },
      "execution_count": 37,
      "outputs": [
        {
          "output_type": "stream",
          "name": "stdout",
          "text": [
            "Model: \"sequential_8\"\n",
            "_________________________________________________________________\n",
            " Layer (type)                Output Shape              Param #   \n",
            "=================================================================\n",
            " conv2d_35 (Conv2D)          (None, 126, 126, 64)      1792      \n",
            "                                                                 \n",
            " max_pooling2d_35 (MaxPoolin  (None, 63, 63, 64)       0         \n",
            " g2D)                                                            \n",
            "                                                                 \n",
            " conv2d_36 (Conv2D)          (None, 61, 61, 64)        36928     \n",
            "                                                                 \n",
            " max_pooling2d_36 (MaxPoolin  (None, 30, 30, 64)       0         \n",
            " g2D)                                                            \n",
            "                                                                 \n",
            " conv2d_37 (Conv2D)          (None, 28, 28, 128)       73856     \n",
            "                                                                 \n",
            " max_pooling2d_37 (MaxPoolin  (None, 14, 14, 128)      0         \n",
            " g2D)                                                            \n",
            "                                                                 \n",
            " conv2d_38 (Conv2D)          (None, 12, 12, 128)       147584    \n",
            "                                                                 \n",
            " max_pooling2d_38 (MaxPoolin  (None, 6, 6, 128)        0         \n",
            " g2D)                                                            \n",
            "                                                                 \n",
            " flatten (Flatten)           (None, 4608)              0         \n",
            "                                                                 \n",
            " dropout_35 (Dropout)        (None, 4608)              0         \n",
            "                                                                 \n",
            " dense_7 (Dense)             (None, 512)               2359808   \n",
            "                                                                 \n",
            " dense_8 (Dense)             (None, 5)                 2565      \n",
            "                                                                 \n",
            "=================================================================\n",
            "Total params: 2,622,533\n",
            "Trainable params: 2,622,533\n",
            "Non-trainable params: 0\n",
            "_________________________________________________________________\n"
          ]
        }
      ]
    },
    {
      "cell_type": "code",
      "source": [
        "#reduce the learnng rate\n",
        "reduce_lr = tf.keras.callbacks.ReduceLROnPlateau(monitor='val_loss', factor=0.1,\n",
        "                              patience=2, min_lr=0.00001)\n",
        "#definindo optimizador\n",
        "optimizer = tf.keras.optimizers.Adam(epsilon=0.01,learning_rate=0.001)"
      ],
      "metadata": {
        "id": "2nota4ef4zJy"
      },
      "execution_count": 38,
      "outputs": []
    },
    {
      "cell_type": "code",
      "source": [
        "# 編譯: 選擇損失函數、優化方法及成效衡量方式\n",
        "model.compile(\n",
        "    optimizer=optimizer,\n",
        "    loss=\"categorical_crossentropy\",\n",
        "    metrics=['accuracy'],\n",
        ")\n",
        "\n",
        "# 進行訓練, 訓練過程會存在 history 變數中\n",
        "history = model.fit(datagen.flow(x_train,y_train,batch_size=batch_size),\n",
        "                        epochs= epoch,validation_data=(x_val,y_val),\n",
        "                        steps_per_epoch=x_train.shape[0] // batch_size\n",
        "                              )"
      ],
      "metadata": {
        "colab": {
          "base_uri": "https://localhost:8080/"
        },
        "id": "Qcx-dj1jZAFR",
        "outputId": "ad956463-63c1-4ccc-f067-ac388a25e3eb"
      },
      "execution_count": 39,
      "outputs": [
        {
          "output_type": "stream",
          "name": "stdout",
          "text": [
            "Epoch 1/50\n",
            "24/24 [==============================] - 16s 566ms/step - loss: 4.7571 - accuracy: 0.2816 - val_loss: 1.3448 - val_accuracy: 0.4265\n",
            "Epoch 2/50\n",
            "24/24 [==============================] - 13s 543ms/step - loss: 1.3379 - accuracy: 0.4057 - val_loss: 1.3128 - val_accuracy: 0.4918\n",
            "Epoch 3/50\n",
            "24/24 [==============================] - 13s 546ms/step - loss: 1.2688 - accuracy: 0.4753 - val_loss: 1.1656 - val_accuracy: 0.4918\n",
            "Epoch 4/50\n",
            "24/24 [==============================] - 13s 541ms/step - loss: 1.2029 - accuracy: 0.4983 - val_loss: 1.1380 - val_accuracy: 0.5517\n",
            "Epoch 5/50\n",
            "24/24 [==============================] - 13s 543ms/step - loss: 1.2075 - accuracy: 0.5077 - val_loss: 1.1175 - val_accuracy: 0.5390\n",
            "Epoch 6/50\n",
            "24/24 [==============================] - 13s 546ms/step - loss: 1.1778 - accuracy: 0.5187 - val_loss: 1.1181 - val_accuracy: 0.5318\n",
            "Epoch 7/50\n",
            "24/24 [==============================] - 13s 541ms/step - loss: 1.1122 - accuracy: 0.5462 - val_loss: 1.0311 - val_accuracy: 0.5898\n",
            "Epoch 8/50\n",
            "24/24 [==============================] - 13s 540ms/step - loss: 1.0923 - accuracy: 0.5599 - val_loss: 0.9809 - val_accuracy: 0.6134\n",
            "Epoch 9/50\n",
            "24/24 [==============================] - 13s 543ms/step - loss: 1.0605 - accuracy: 0.5893 - val_loss: 1.0297 - val_accuracy: 0.5953\n",
            "Epoch 10/50\n",
            "24/24 [==============================] - 13s 542ms/step - loss: 1.0999 - accuracy: 0.5585 - val_loss: 0.9841 - val_accuracy: 0.6152\n",
            "Epoch 11/50\n",
            "24/24 [==============================] - 13s 559ms/step - loss: 1.0250 - accuracy: 0.5990 - val_loss: 0.9973 - val_accuracy: 0.6134\n",
            "Epoch 12/50\n",
            "24/24 [==============================] - 13s 571ms/step - loss: 0.9851 - accuracy: 0.6060 - val_loss: 0.9211 - val_accuracy: 0.6298\n",
            "Epoch 13/50\n",
            "24/24 [==============================] - 13s 541ms/step - loss: 1.0003 - accuracy: 0.6117 - val_loss: 0.9291 - val_accuracy: 0.6352\n",
            "Epoch 14/50\n",
            "24/24 [==============================] - 13s 535ms/step - loss: 0.9819 - accuracy: 0.6177 - val_loss: 0.9133 - val_accuracy: 0.6443\n",
            "Epoch 15/50\n",
            "24/24 [==============================] - 13s 538ms/step - loss: 0.9043 - accuracy: 0.6492 - val_loss: 0.8470 - val_accuracy: 0.6715\n",
            "Epoch 16/50\n",
            "24/24 [==============================] - 13s 540ms/step - loss: 0.9047 - accuracy: 0.6485 - val_loss: 0.8482 - val_accuracy: 0.6733\n",
            "Epoch 17/50\n",
            "24/24 [==============================] - 13s 536ms/step - loss: 0.9118 - accuracy: 0.6408 - val_loss: 0.8244 - val_accuracy: 0.6751\n",
            "Epoch 18/50\n",
            "24/24 [==============================] - 13s 554ms/step - loss: 0.9013 - accuracy: 0.6559 - val_loss: 0.8455 - val_accuracy: 0.6878\n",
            "Epoch 19/50\n",
            "24/24 [==============================] - 13s 540ms/step - loss: 0.8591 - accuracy: 0.6689 - val_loss: 0.8704 - val_accuracy: 0.6697\n",
            "Epoch 20/50\n",
            "24/24 [==============================] - 13s 540ms/step - loss: 0.8858 - accuracy: 0.6579 - val_loss: 0.8259 - val_accuracy: 0.6987\n",
            "Epoch 21/50\n",
            "24/24 [==============================] - 13s 538ms/step - loss: 0.8609 - accuracy: 0.6689 - val_loss: 0.8629 - val_accuracy: 0.6624\n",
            "Epoch 22/50\n",
            "24/24 [==============================] - 13s 540ms/step - loss: 0.8265 - accuracy: 0.6916 - val_loss: 0.8139 - val_accuracy: 0.7241\n",
            "Epoch 23/50\n",
            "24/24 [==============================] - 13s 539ms/step - loss: 0.8354 - accuracy: 0.6916 - val_loss: 0.7897 - val_accuracy: 0.7169\n",
            "Epoch 24/50\n",
            "24/24 [==============================] - 13s 555ms/step - loss: 0.8047 - accuracy: 0.6839 - val_loss: 0.8493 - val_accuracy: 0.6969\n",
            "Epoch 25/50\n",
            "24/24 [==============================] - 13s 538ms/step - loss: 0.8105 - accuracy: 0.6903 - val_loss: 0.7803 - val_accuracy: 0.7096\n",
            "Epoch 26/50\n",
            "24/24 [==============================] - 13s 534ms/step - loss: 0.8032 - accuracy: 0.6923 - val_loss: 0.7819 - val_accuracy: 0.7169\n",
            "Epoch 27/50\n",
            "24/24 [==============================] - 13s 552ms/step - loss: 0.7795 - accuracy: 0.7017 - val_loss: 0.7660 - val_accuracy: 0.7314\n",
            "Epoch 28/50\n",
            "24/24 [==============================] - 13s 537ms/step - loss: 0.8291 - accuracy: 0.6860 - val_loss: 0.9052 - val_accuracy: 0.6407\n",
            "Epoch 29/50\n",
            "24/24 [==============================] - 13s 540ms/step - loss: 0.7886 - accuracy: 0.7040 - val_loss: 0.7474 - val_accuracy: 0.7387\n",
            "Epoch 30/50\n",
            "24/24 [==============================] - 13s 540ms/step - loss: 0.7729 - accuracy: 0.7174 - val_loss: 0.7834 - val_accuracy: 0.7350\n",
            "Epoch 31/50\n",
            "24/24 [==============================] - 13s 537ms/step - loss: 0.7533 - accuracy: 0.7054 - val_loss: 0.7483 - val_accuracy: 0.7405\n",
            "Epoch 32/50\n",
            "24/24 [==============================] - 13s 537ms/step - loss: 0.7465 - accuracy: 0.7194 - val_loss: 0.8223 - val_accuracy: 0.7042\n",
            "Epoch 33/50\n",
            "24/24 [==============================] - 13s 533ms/step - loss: 0.7360 - accuracy: 0.7227 - val_loss: 0.7338 - val_accuracy: 0.7314\n",
            "Epoch 34/50\n",
            "24/24 [==============================] - 13s 536ms/step - loss: 0.7584 - accuracy: 0.7144 - val_loss: 0.8597 - val_accuracy: 0.6715\n",
            "Epoch 35/50\n",
            "24/24 [==============================] - 13s 542ms/step - loss: 0.7317 - accuracy: 0.7264 - val_loss: 0.7253 - val_accuracy: 0.7441\n",
            "Epoch 36/50\n",
            "24/24 [==============================] - 13s 537ms/step - loss: 0.7025 - accuracy: 0.7391 - val_loss: 0.7444 - val_accuracy: 0.7296\n",
            "Epoch 37/50\n",
            "24/24 [==============================] - 13s 541ms/step - loss: 0.6870 - accuracy: 0.7462 - val_loss: 0.7615 - val_accuracy: 0.7314\n",
            "Epoch 38/50\n",
            "24/24 [==============================] - 13s 541ms/step - loss: 0.6766 - accuracy: 0.7548 - val_loss: 0.7494 - val_accuracy: 0.7477\n",
            "Epoch 39/50\n",
            "24/24 [==============================] - 13s 541ms/step - loss: 0.7259 - accuracy: 0.7368 - val_loss: 0.7663 - val_accuracy: 0.7223\n",
            "Epoch 40/50\n",
            "24/24 [==============================] - 13s 542ms/step - loss: 0.6745 - accuracy: 0.7478 - val_loss: 0.7425 - val_accuracy: 0.7314\n",
            "Epoch 41/50\n",
            "24/24 [==============================] - 13s 542ms/step - loss: 0.6947 - accuracy: 0.7375 - val_loss: 0.8342 - val_accuracy: 0.7078\n",
            "Epoch 42/50\n",
            "24/24 [==============================] - 13s 541ms/step - loss: 0.7178 - accuracy: 0.7234 - val_loss: 0.7953 - val_accuracy: 0.6969\n",
            "Epoch 43/50\n",
            "24/24 [==============================] - 13s 546ms/step - loss: 0.6990 - accuracy: 0.7288 - val_loss: 0.7396 - val_accuracy: 0.7296\n",
            "Epoch 44/50\n",
            "24/24 [==============================] - 13s 539ms/step - loss: 0.6521 - accuracy: 0.7605 - val_loss: 0.6946 - val_accuracy: 0.7768\n",
            "Epoch 45/50\n",
            "24/24 [==============================] - 13s 536ms/step - loss: 0.6357 - accuracy: 0.7609 - val_loss: 0.6745 - val_accuracy: 0.7677\n",
            "Epoch 46/50\n",
            "24/24 [==============================] - 13s 543ms/step - loss: 0.6338 - accuracy: 0.7739 - val_loss: 0.8232 - val_accuracy: 0.7024\n",
            "Epoch 47/50\n",
            "24/24 [==============================] - 13s 539ms/step - loss: 0.6245 - accuracy: 0.7729 - val_loss: 0.7309 - val_accuracy: 0.7296\n",
            "Epoch 48/50\n",
            "24/24 [==============================] - 13s 539ms/step - loss: 0.6501 - accuracy: 0.7609 - val_loss: 0.6626 - val_accuracy: 0.7786\n",
            "Epoch 49/50\n",
            "24/24 [==============================] - 13s 539ms/step - loss: 0.6516 - accuracy: 0.7508 - val_loss: 0.6530 - val_accuracy: 0.7750\n",
            "Epoch 50/50\n",
            "24/24 [==============================] - 13s 537ms/step - loss: 0.6617 - accuracy: 0.7502 - val_loss: 0.7857 - val_accuracy: 0.7223\n"
          ]
        }
      ]
    },
    {
      "cell_type": "code",
      "source": [
        "#confusion matrix\n",
        "Y_pred = model.predict(x_val)\n",
        "Y_pred_classes = np.argmax(Y_pred,axis = 1)\n",
        "Y_true = np.argmax(y_val,axis = 1)\n",
        "confusion_mtx = confusion_matrix(Y_true,Y_pred_classes)\n",
        "f,ax = plt.subplots(figsize = (8,8))\n",
        "sns.heatmap(confusion_mtx,annot=True,linewidths = 0.01,cmap=\"Reds\",\n",
        "            linecolor = \"gray\",fmt = \".2f\",ax=ax\n",
        "            )\n",
        "plt.xlabel(\"predicted label\")\n",
        "plt.ylabel(\"True Label\")\n",
        "plt.title(\"confusion matrix\")\n",
        "plt.show()"
      ],
      "metadata": {
        "colab": {
          "base_uri": "https://localhost:8080/",
          "height": 513
        },
        "id": "v38T_f9qCI3T",
        "outputId": "fc0f65f4-2aa0-495e-8540-a3983a600f1f"
      },
      "execution_count": 40,
      "outputs": [
        {
          "output_type": "display_data",
          "data": {
            "text/plain": [
              "<Figure size 576x576 with 2 Axes>"
            ],
            "image/png": "[encoded data removed]"
          },
          "metadata": {
            "needs_background": "light"
          }
        }
      ]
    },
    {
      "cell_type": "code",
      "source": [
        "print(\"Test Accuracy: {0:.2f}%\".format(model.evaluate(x_test,y_test)[1]*100)) #get score acording to test datas\n",
        "print(classification_report(Y_true,Y_pred_classes))"
      ],
      "metadata": {
        "colab": {
          "base_uri": "https://localhost:8080/"
        },
        "id": "eYmBGp44CWoK",
        "outputId": "1e494696-8e14-46a3-ba2a-26f49d98b022"
      },
      "execution_count": 41,
      "outputs": [
        {
          "output_type": "stream",
          "name": "stdout",
          "text": [
            "21/21 [==============================] - 1s 31ms/step - loss: 0.8292 - accuracy: 0.7037\n",
            "Test Accuracy: 70.37%\n",
            "              precision    recall  f1-score   support\n",
            "\n",
            "           0       0.60      0.83      0.69       104\n",
            "           1       0.87      0.53      0.66       126\n",
            "           2       0.80      0.57      0.67       103\n",
            "           3       0.65      0.96      0.78        85\n",
            "           4       0.80      0.78      0.79       133\n",
            "\n",
            "    accuracy                           0.72       551\n",
            "   macro avg       0.74      0.74      0.72       551\n",
            "weighted avg       0.75      0.72      0.72       551\n",
            "\n"
          ]
        }
      ]
    },
    {
      "cell_type": "code",
      "source": [
        "# Plot learning curves\n",
        "history_frame = pd.DataFrame(history.history)\n",
        "history_frame.loc[:, ['loss', 'val_loss']].plot()\n",
        "history_frame.loc[:, ['accuracy', 'val_accuracy']].plot();\n"
      ],
      "metadata": {
        "id": "POCcC6F3oL5t",
        "colab": {
          "base_uri": "https://localhost:8080/",
          "height": 516
        },
        "outputId": "00cf70cb-2205-4c20-c269-2fc23bae2628"
      },
      "execution_count": 48,
      "outputs": [
        {
          "output_type": "display_data",
          "data": {
            "text/plain": [
              "<Figure size 432x288 with 1 Axes>"
            ],
            "image/png": "[encoded data removed]"
          },
          "metadata": {
            "needs_background": "light"
          }
        },
        {
          "output_type": "display_data",
          "data": {
            "text/plain": [
              "<Figure size 432x288 with 1 Axes>"
            ],
            "image/png": "[encoded data removed]"
          },
          "metadata": {
            "needs_background": "light"
          }
        }
      ]
    }
  ]
}