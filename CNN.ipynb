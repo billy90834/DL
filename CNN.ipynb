{
  "nbformat": 4,
  "nbformat_minor": 0,
  "metadata": {
    "colab": {
      "name": "CNN.ipynb",
      "provenance": [],
      "collapsed_sections": [],
      "mount_file_id": "1xpYa689KzdDXl3lof-61r5ZEBpP1IzI8",
      "authorship_tag": "ABX9TyMqRW2Y4XdpwMuEqMMsjsSP",
      "include_colab_link": true
    },
    "kernelspec": {
      "name": "python3",
      "display_name": "Python 3"
    },
    "language_info": {
      "name": "python"
    },
    "accelerator": "GPU"
  },
  "cells": [
    {
      "cell_type": "markdown",
      "metadata": {
        "id": "view-in-github",
        "colab_type": "text"
      },
      "source": [
        "<a href=\"https://colab.research.google.com/github/billy90834/-/blob/main/CNN.ipynb\" target=\"_parent\"><img src=\"https://colab.research.google.com/assets/colab-badge.svg\" alt=\"Open In Colab\"/></a>"
      ]
    },
    {
      "cell_type": "code",
      "execution_count": null,
      "metadata": {
        "id": "JSdnR7VdfqJI"
      },
      "outputs": [],
      "source": [
        "import os\n",
        "# Ignore  the warnings\n",
        "import matplotlib.pyplot as plt\n",
        "import numpy as np\n",
        "import pandas as pd\n",
        "import cv2\n",
        "import seaborn as sns\n",
        "import random as rn\n",
        "from sklearn.model_selection import train_test_split\n",
        "\n",
        "#imports \n",
        "from tensorflow import keras\n",
        "from tensorflow.keras import layers\n",
        "from tensorflow.keras.layers.experimental import preprocessing\n",
        "from sklearn.metrics import confusion_matrix, classification_report\n",
        "\n",
        "import tensorflow as tf\n",
        "from tensorflow.keras.preprocessing import image_dataset_from_directory\n",
        "from keras.preprocessing.image import ImageDataGenerator\n",
        "\n",
        "from tensorflow.keras import models\n",
        "from scipy.ndimage import zoom\n",
        "\n",
        "from keras.models import load_model"
      ]
    },
    {
      "cell_type": "code",
      "source": [
        "#train of dataset\n",
        "ds_train = image_dataset_from_directory(\n",
        "    '/content/drive/MyDrive/flowers',\n",
        "    labels='inferred',\n",
        "    label_mode = \"categorical\",\n",
        "    image_size=[128, 128],\n",
        "    validation_split = 0.3,\n",
        "    subset=\"training\",\n",
        "    interpolation='nearest',\n",
        "    batch_size=64,\n",
        "    shuffle=True,\n",
        "    seed=42\n",
        ")"
      ],
      "metadata": {
        "colab": {
          "base_uri": "https://localhost:8080/"
        },
        "id": "eO5Jr8LwyQ6a",
        "outputId": "814f7eec-af28-4088-bfd4-2378f88c76f9"
      },
      "execution_count": null,
      "outputs": [
        {
          "output_type": "stream",
          "name": "stdout",
          "text": [
            "Found 4317 files belonging to 5 classes.\n",
            "Using 3022 files for training.\n"
          ]
        }
      ]
    },
    {
      "cell_type": "code",
      "source": [
        "#valid of dataset \n",
        "ds_valid = image_dataset_from_directory(\n",
        "    '/content/drive/MyDrive/flowers',\n",
        "    labels='inferred',\n",
        "    label_mode = \"categorical\",\n",
        "    image_size=[128, 128],\n",
        "    validation_split = 0.3,\n",
        "    subset=\"validation\",\n",
        "    interpolation='nearest',\n",
        "    batch_size=64,\n",
        "    shuffle=True,\n",
        "    seed=42\n",
        ")\n"
      ],
      "metadata": {
        "colab": {
          "base_uri": "https://localhost:8080/"
        },
        "id": "NuugkO4SzBOj",
        "outputId": "24584832-d0e3-4e13-df36-cfb99f5884f8"
      },
      "execution_count": null,
      "outputs": [
        {
          "output_type": "stream",
          "name": "stdout",
          "text": [
            "Found 4317 files belonging to 5 classes.\n",
            "Using 1295 files for validation.\n"
          ]
        }
      ]
    },
    {
      "cell_type": "code",
      "source": [
        "#analysing the class names\n",
        "class_names = ds_train.class_names\n",
        "class_names"
      ],
      "metadata": {
        "id": "DQi3K6joe_Hn",
        "colab": {
          "base_uri": "https://localhost:8080/"
        },
        "outputId": "f6aad08d-a15e-45c7-94dd-232f384b43e0"
      },
      "execution_count": null,
      "outputs": [
        {
          "output_type": "execute_result",
          "data": {
            "text/plain": [
              "['daisy', 'dandelion', 'rose', 'sunflower', 'tulip']"
            ]
          },
          "metadata": {},
          "execution_count": 4
        }
      ]
    },
    {
      "cell_type": "code",
      "source": [
        "for image,label in ds_train.take(1):\n",
        "    print(\"shape:\",image.shape)"
      ],
      "metadata": {
        "id": "D40z8kIH9CqC"
      },
      "execution_count": null,
      "outputs": []
    },
    {
      "cell_type": "code",
      "source": [
        "#使用 AUTOTUNE 找到 prefetching 的最佳參數\n",
        "AUTOTUNE = tf.data.AUTOTUNE \n",
        "\n",
        "ds_train = ds_train.cache().shuffle(1000).prefetch(buffer_size=AUTOTUNE)\n",
        "ds_valid = ds_valid.cache().prefetch(buffer_size=AUTOTUNE)\n",
        "#define the ramdomic of the layers\n",
        "tf.random.set_seed(42) \n",
        "np.random.seed(42)"
      ],
      "metadata": {
        "id": "YShqNBMf1HfL"
      },
      "execution_count": null,
      "outputs": []
    },
    {
      "cell_type": "code",
      "source": [
        "#data可視化\n",
        "sns.barplot(x=['tulip','roses','dandelion','sunflower','daisy'] , y=[len(os.listdir('/content/drive/MyDrive/flowers/tulip')),\n",
        "                                    len(os.listdir('/content/drive/MyDrive/flowers/rose')),\n",
        "                                    len(os.listdir('/content/drive/MyDrive/flowers/dandelion')),\n",
        "                                    len(os.listdir('/content/drive/MyDrive/flowers/sunflower')),\n",
        "                                    len(os.listdir('/content/drive/MyDrive/flowers/daisy'))])"
      ],
      "metadata": {
        "colab": {
          "base_uri": "https://localhost:8080/",
          "height": 282
        },
        "id": "ln2G2Q09fdxP",
        "outputId": "bf8622a3-ea65-465c-ee85-2ecff19ec9e2"
      },
      "execution_count": null,
      "outputs": [
        {
          "output_type": "execute_result",
          "data": {
            "text/plain": [
              "<matplotlib.axes._subplots.AxesSubplot at 0x7f0625588110>"
            ]
          },
          "metadata": {},
          "execution_count": 6
        },
        {
          "output_type": "display_data",
          "data": {
            "text/plain": [
              "<Figure size 432x288 with 1 Axes>"
            ],
            "image/png": "[encoded data removed]"
          },
          "metadata": {
            "needs_background": "light"
          }
        }
      ]
    },
    {
      "cell_type": "code",
      "source": [
        "##影像資料增補\n",
        "data_augmentation = keras.Sequential([\n",
        "    preprocessing.RandomZoom(0.1),\n",
        "    preprocessing.RandomFlip(mode=\"horizontal\"),\n",
        "    preprocessing.RandomRotation(factor=0.1),\n",
        "    \n",
        "])"
      ],
      "metadata": {
        "id": "p6ls7KgHmkAW"
      },
      "execution_count": null,
      "outputs": []
    },
    {
      "cell_type": "code",
      "source": [
        "#create model\n",
        "model = keras.Sequential([\n",
        "    \n",
        "    \n",
        "    layers.InputLayer(input_shape=[128, 128, 3]),\n",
        "    \n",
        "    #Data preprocessing\n",
        "    data_augmentation,\n",
        "    \n",
        "    layers.Rescaling(1./255),\n",
        "\n",
        "    \n",
        "    #Base\n",
        "    layers.BatchNormalization(),\n",
        "    layers.Conv2D(filters=64, kernel_size=3, activation=\"relu\", padding='same'), \n",
        "    layers.MaxPool2D(),\n",
        "    layers.Dropout(0.25),\n",
        "    \n",
        "    layers.BatchNormalization(),\n",
        "    layers.Conv2D(filters=64, kernel_size=3, activation=\"relu\", padding='same'),\n",
        "    layers.Conv2D(filters=64, kernel_size=3, activation=\"relu\", padding='same'),\n",
        "    layers.MaxPool2D(),\n",
        "    layers.Dropout(0.25),\n",
        "    \n",
        "    # Head\n",
        "    layers.BatchNormalization(),\n",
        "    layers.GlobalMaxPooling2D(),\n",
        "    layers.Dense(len(class_names),activation=\"softmax\") #output\n",
        "])"
      ],
      "metadata": {
        "id": "PvmXN9UV33Ly"
      },
      "execution_count": null,
      "outputs": []
    },
    {
      "cell_type": "code",
      "source": [
        "# 輸出模型摘要資訊\n",
        "model.summary()"
      ],
      "metadata": {
        "colab": {
          "base_uri": "https://localhost:8080/"
        },
        "id": "jH64FlfYs9Jh",
        "outputId": "d6c037a1-d47e-4190-f836-85627e2cf153"
      },
      "execution_count": null,
      "outputs": [
        {
          "output_type": "stream",
          "name": "stdout",
          "text": [
            "Model: \"sequential_1\"\n",
            "_________________________________________________________________\n",
            " Layer (type)                Output Shape              Param #   \n",
            "=================================================================\n",
            " sequential (Sequential)     (None, 128, 128, 3)       0         \n",
            "                                                                 \n",
            " rescaling (Rescaling)       (None, 128, 128, 3)       0         \n",
            "                                                                 \n",
            " batch_normalization (BatchN  (None, 128, 128, 3)      12        \n",
            " ormalization)                                                   \n",
            "                                                                 \n",
            " conv2d (Conv2D)             (None, 128, 128, 64)      1792      \n",
            "                                                                 \n",
            " max_pooling2d (MaxPooling2D  (None, 64, 64, 64)       0         \n",
            " )                                                               \n",
            "                                                                 \n",
            " dropout (Dropout)           (None, 64, 64, 64)        0         \n",
            "                                                                 \n",
            " batch_normalization_1 (Batc  (None, 64, 64, 64)       256       \n",
            " hNormalization)                                                 \n",
            "                                                                 \n",
            " conv2d_1 (Conv2D)           (None, 64, 64, 64)        36928     \n",
            "                                                                 \n",
            " conv2d_2 (Conv2D)           (None, 64, 64, 64)        36928     \n",
            "                                                                 \n",
            " max_pooling2d_1 (MaxPooling  (None, 32, 32, 64)       0         \n",
            " 2D)                                                             \n",
            "                                                                 \n",
            " dropout_1 (Dropout)         (None, 32, 32, 64)        0         \n",
            "                                                                 \n",
            " batch_normalization_2 (Batc  (None, 32, 32, 64)       256       \n",
            " hNormalization)                                                 \n",
            "                                                                 \n",
            " global_max_pooling2d (Globa  (None, 64)               0         \n",
            " lMaxPooling2D)                                                  \n",
            "                                                                 \n",
            " dense (Dense)               (None, 5)                 325       \n",
            "                                                                 \n",
            "=================================================================\n",
            "Total params: 76,497\n",
            "Trainable params: 76,235\n",
            "Non-trainable params: 262\n",
            "_________________________________________________________________\n"
          ]
        }
      ]
    },
    {
      "cell_type": "code",
      "source": [
        "#reduce the learnng rate\n",
        "reduce_lr = tf.keras.callbacks.ReduceLROnPlateau(monitor='val_loss', factor=0.1,\n",
        "                              patience=2, min_lr=0.00001)\n",
        "#definindo optimizador\n",
        "optimizer = tf.keras.optimizers.Adam(epsilon=0.01,learning_rate=0.01)"
      ],
      "metadata": {
        "id": "2nota4ef4zJy"
      },
      "execution_count": null,
      "outputs": []
    },
    {
      "cell_type": "code",
      "source": [
        "# 編譯: 選擇損失函數、優化方法及成效衡量方式\n",
        "model.compile(\n",
        "    optimizer=optimizer,\n",
        "    loss=\"categorical_crossentropy\",\n",
        "    metrics=['accuracy'],\n",
        ")\n",
        "\n",
        "# 進行訓練, 訓練過程會存在 history 變數中\n",
        "history = model.fit(\n",
        "    ds_train,\n",
        "    validation_data=ds_valid,\n",
        "    epochs=30,\n",
        "    callbacks=[reduce_lr],\n",
        ")"
      ],
      "metadata": {
        "colab": {
          "base_uri": "https://localhost:8080/"
        },
        "id": "Qcx-dj1jZAFR",
        "outputId": "77aeae25-dac5-499f-f12e-3e3086554d97"
      },
      "execution_count": null,
      "outputs": [
        {
          "output_type": "stream",
          "name": "stdout",
          "text": [
            "48/48 [==============================] - 688s 6s/step - loss: 1.6062 - accuracy: 0.4186 - val_loss: 1.4619 - val_accuracy: 0.3761 - lr: 0.0100\n",
            "Epoch 2/30\n",
            "48/48 [==============================] - 7s 146ms/step - loss: 1.1350 - accuracy: 0.5288 - val_loss: 1.3707 - val_accuracy: 0.4687 - lr: 0.0100\n",
            "Epoch 3/30\n",
            "48/48 [==============================] - 7s 146ms/step - loss: 1.0279 - accuracy: 0.5877 - val_loss: 1.3133 - val_accuracy: 0.4865 - lr: 0.0100\n",
            "Epoch 4/30\n",
            "48/48 [==============================] - 7s 145ms/step - loss: 0.9730 - accuracy: 0.6165 - val_loss: 1.1342 - val_accuracy: 0.5969 - lr: 0.0100\n",
            "Epoch 5/30\n",
            "48/48 [==============================] - 7s 145ms/step - loss: 0.9240 - accuracy: 0.6420 - val_loss: 1.0441 - val_accuracy: 0.6324 - lr: 0.0100\n",
            "Epoch 6/30\n",
            "48/48 [==============================] - 7s 145ms/step - loss: 0.8969 - accuracy: 0.6602 - val_loss: 1.0039 - val_accuracy: 0.6301 - lr: 0.0100\n",
            "Epoch 7/30\n",
            "48/48 [==============================] - 7s 146ms/step - loss: 0.8971 - accuracy: 0.6380 - val_loss: 0.9619 - val_accuracy: 0.6378 - lr: 0.0100\n",
            "Epoch 8/30\n",
            "48/48 [==============================] - 7s 145ms/step - loss: 0.8550 - accuracy: 0.6691 - val_loss: 0.9127 - val_accuracy: 0.6394 - lr: 0.0100\n",
            "Epoch 9/30\n",
            "48/48 [==============================] - 7s 145ms/step - loss: 0.8452 - accuracy: 0.6813 - val_loss: 0.9211 - val_accuracy: 0.6293 - lr: 0.0100\n",
            "Epoch 10/30\n",
            "48/48 [==============================] - 7s 145ms/step - loss: 0.8359 - accuracy: 0.6803 - val_loss: 0.8551 - val_accuracy: 0.6541 - lr: 0.0100\n",
            "Epoch 11/30\n",
            "48/48 [==============================] - 7s 145ms/step - loss: 0.8089 - accuracy: 0.6899 - val_loss: 0.8064 - val_accuracy: 0.6873 - lr: 0.0100\n",
            "Epoch 12/30\n",
            "48/48 [==============================] - 7s 145ms/step - loss: 0.8036 - accuracy: 0.6942 - val_loss: 0.7556 - val_accuracy: 0.7189 - lr: 0.0100\n",
            "Epoch 13/30\n",
            "48/48 [==============================] - 7s 146ms/step - loss: 0.7742 - accuracy: 0.7052 - val_loss: 0.7564 - val_accuracy: 0.7205 - lr: 0.0100\n",
            "Epoch 14/30\n",
            "48/48 [==============================] - 7s 145ms/step - loss: 0.7540 - accuracy: 0.7151 - val_loss: 0.7714 - val_accuracy: 0.7112 - lr: 0.0100\n",
            "Epoch 15/30\n",
            "48/48 [==============================] - 7s 145ms/step - loss: 0.6547 - accuracy: 0.7498 - val_loss: 0.7286 - val_accuracy: 0.7266 - lr: 1.0000e-03\n",
            "Epoch 16/30\n",
            "48/48 [==============================] - 7s 146ms/step - loss: 0.6531 - accuracy: 0.7528 - val_loss: 0.7247 - val_accuracy: 0.7266 - lr: 1.0000e-03\n",
            "Epoch 17/30\n",
            "48/48 [==============================] - 7s 145ms/step - loss: 0.6455 - accuracy: 0.7518 - val_loss: 0.7176 - val_accuracy: 0.7328 - lr: 1.0000e-03\n",
            "Epoch 18/30\n",
            "48/48 [==============================] - 7s 145ms/step - loss: 0.6375 - accuracy: 0.7571 - val_loss: 0.7122 - val_accuracy: 0.7336 - lr: 1.0000e-03\n",
            "Epoch 19/30\n",
            "48/48 [==============================] - 7s 145ms/step - loss: 0.6305 - accuracy: 0.7608 - val_loss: 0.7162 - val_accuracy: 0.7390 - lr: 1.0000e-03\n",
            "Epoch 20/30\n",
            "48/48 [==============================] - 7s 146ms/step - loss: 0.6328 - accuracy: 0.7591 - val_loss: 0.7303 - val_accuracy: 0.7351 - lr: 1.0000e-03\n",
            "Epoch 21/30\n",
            "48/48 [==============================] - 7s 146ms/step - loss: 0.6155 - accuracy: 0.7704 - val_loss: 0.7231 - val_accuracy: 0.7336 - lr: 1.0000e-04\n",
            "Epoch 22/30\n",
            "48/48 [==============================] - 7s 146ms/step - loss: 0.6169 - accuracy: 0.7704 - val_loss: 0.7218 - val_accuracy: 0.7351 - lr: 1.0000e-04\n",
            "Epoch 23/30\n",
            "48/48 [==============================] - 7s 145ms/step - loss: 0.6166 - accuracy: 0.7687 - val_loss: 0.7218 - val_accuracy: 0.7344 - lr: 1.0000e-05\n",
            "Epoch 24/30\n",
            "48/48 [==============================] - 7s 145ms/step - loss: 0.6121 - accuracy: 0.7690 - val_loss: 0.7214 - val_accuracy: 0.7344 - lr: 1.0000e-05\n",
            "Epoch 25/30\n",
            "48/48 [==============================] - 7s 146ms/step - loss: 0.6141 - accuracy: 0.7667 - val_loss: 0.7218 - val_accuracy: 0.7359 - lr: 1.0000e-05\n",
            "Epoch 26/30\n",
            "48/48 [==============================] - 7s 146ms/step - loss: 0.6088 - accuracy: 0.7717 - val_loss: 0.7219 - val_accuracy: 0.7344 - lr: 1.0000e-05\n",
            "Epoch 27/30\n",
            "48/48 [==============================] - 7s 145ms/step - loss: 0.6111 - accuracy: 0.7697 - val_loss: 0.7219 - val_accuracy: 0.7344 - lr: 1.0000e-05\n",
            "Epoch 28/30\n",
            "48/48 [==============================] - 7s 146ms/step - loss: 0.6173 - accuracy: 0.7634 - val_loss: 0.7219 - val_accuracy: 0.7359 - lr: 1.0000e-05\n",
            "Epoch 29/30\n",
            "48/48 [==============================] - 7s 145ms/step - loss: 0.6095 - accuracy: 0.7727 - val_loss: 0.7215 - val_accuracy: 0.7359 - lr: 1.0000e-05\n",
            "Epoch 30/30\n",
            "48/48 [==============================] - 7s 145ms/step - loss: 0.6144 - accuracy: 0.7664 - val_loss: 0.7212 - val_accuracy: 0.7336 - lr: 1.0000e-05\n"
          ]
        }
      ]
    },
    {
      "cell_type": "code",
      "source": [
        "#classification  report 成果 \n",
        "test_images1 = [image.numpy() for image,labels in ds_valid.take(-1)][0]\n",
        "test_labels1 = [labels.numpy() for image,labels in ds_valid.take(-1)][0]\n",
        "test_labels1 = np.argmax(test_labels1,axis=-1)\n",
        "predict_labels1 = np.argmax(model.predict(test_images1),axis=-1)\n",
        "\n",
        "print(classification_report(test_labels1,predict_labels1,target_names=class_names))"
      ],
      "metadata": {
        "colab": {
          "base_uri": "https://localhost:8080/"
        },
        "id": "d94HpO6w-M8E",
        "outputId": "7b03c075-735a-44e5-c88b-ddaebb9405e2"
      },
      "execution_count": null,
      "outputs": [
        {
          "output_type": "stream",
          "name": "stdout",
          "text": [
            "              precision    recall  f1-score   support\n",
            "\n",
            "       daisy       0.92      0.79      0.85        14\n",
            "   dandelion       1.00      1.00      1.00         5\n",
            "        rose       1.00      0.55      0.71        20\n",
            "   sunflower       0.67      1.00      0.80        10\n",
            "       tulip       0.52      0.73      0.61        15\n",
            "\n",
            "    accuracy                           0.75        64\n",
            "   macro avg       0.82      0.81      0.79        64\n",
            "weighted avg       0.82      0.75      0.75        64\n",
            "\n"
          ]
        }
      ]
    },
    {
      "cell_type": "code",
      "source": [
        "# Plot learning curves\n",
        "history_frame = pd.DataFrame(history.history)\n",
        "history_frame.loc[:, ['loss', 'val_loss']].plot()\n",
        "history_frame.loc[:, ['accuracy', 'val_accuracy']].plot();"
      ],
      "metadata": {
        "id": "POCcC6F3oL5t",
        "colab": {
          "base_uri": "https://localhost:8080/",
          "height": 513
        },
        "outputId": "0ddeb7f7-a1aa-42be-fed2-b5748feaa2f8"
      },
      "execution_count": null,
      "outputs": [
        {
          "output_type": "display_data",
          "data": {
            "text/plain": [
              "<Figure size 432x288 with 1 Axes>"
            ],
            "image/png": "[encoded data removed]"
          },
          "metadata": {
            "needs_background": "light"
          }
        },
        {
          "output_type": "display_data",
          "data": {
            "text/plain": [
              "<Figure size 432x288 with 1 Axes>"
            ],
            "image/png": "[encoded data removed]"
          },
          "metadata": {
            "needs_background": "light"
          }
        }
      ]
    }
  ]
}