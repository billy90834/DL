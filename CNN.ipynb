{
  "nbformat": 4,
  "nbformat_minor": 0,
  "metadata": {
    "colab": {
      "name": "CNN.ipynb",
      "provenance": [],
      "collapsed_sections": [],
      "mount_file_id": "1xpYa689KzdDXl3lof-61r5ZEBpP1IzI8",
      "authorship_tag": "ABX9TyOQGkGqia2FVk3TY5IHEBg3",
      "include_colab_link": true
    },
    "kernelspec": {
      "name": "python3",
      "display_name": "Python 3"
    },
    "language_info": {
      "name": "python"
    },
    "accelerator": "GPU"
  },
  "cells": [
    {
      "cell_type": "markdown",
      "metadata": {
        "id": "view-in-github",
        "colab_type": "text"
      },
      "source": [
        "<a href=\"https://colab.research.google.com/github/billy90834/DL/blob/main/CNN.ipynb\" target=\"_parent\"><img src=\"https://colab.research.google.com/assets/colab-badge.svg\" alt=\"Open In Colab\"/></a>"
      ]
    },
    {
      "cell_type": "code",
      "execution_count": 26,
      "metadata": {
        "id": "JSdnR7VdfqJI"
      },
      "outputs": [],
      "source": [
        "import os\n",
        "# Ignore  the warnings\n",
        "import matplotlib.pyplot as plt\n",
        "import numpy as np\n",
        "import pandas as pd\n",
        "import cv2\n",
        "import seaborn as sns\n",
        "import random as rn\n",
        "from sklearn.model_selection import train_test_split\n",
        "import glob as gb\n",
        "#imports \n",
        "from tensorflow import keras\n",
        "from tensorflow.keras import layers\n",
        "from tensorflow.keras.layers.experimental import preprocessing\n",
        "from sklearn.metrics import confusion_matrix, classification_report\n",
        "\n",
        "import tensorflow as tf\n",
        "from tensorflow.keras.preprocessing import image_dataset_from_directory\n",
        "from keras.preprocessing.image import ImageDataGenerator\n",
        "\n",
        "from tensorflow.keras import models\n",
        "from scipy.ndimage import zoom\n",
        "\n",
        "from keras.models import load_model\n",
        "from keras.applications.mobilenet_v2 import  preprocess_input ,MobileNetV2"
      ]
    },
    {
      "cell_type": "code",
      "source": [
        "x_ = list()\n",
        "y = list()\n",
        "IMG_SIZE = 128\n",
        "for i in os.listdir(\"/content/drive/MyDrive/flowers/daisy\"):\n",
        "    try:\n",
        "        path = \"/content/drive/MyDrive/flowers/daisy/\"+i\n",
        "        img = plt.imread(path)\n",
        "        img = cv2.resize(img,(IMG_SIZE,IMG_SIZE))\n",
        "        x_.append(img)\n",
        "        y.append(0)\n",
        "    except:\n",
        "        None\n",
        "for i in os.listdir(\"/content/drive/MyDrive/flowers/dandelion\"):\n",
        "    try:\n",
        "        path = \"/content/drive/MyDrive/flowers/dandelion/\"+i\n",
        "        img = plt.imread(path)\n",
        "        img = cv2.resize(img,(IMG_SIZE,IMG_SIZE))\n",
        "        x_.append(img)\n",
        "        y.append(1)\n",
        "    except:\n",
        "        None\n",
        "for i in os.listdir(\"/content/drive/MyDrive/flowers/rose\"):\n",
        "    try:\n",
        "        path = \"/content/drive/MyDrive/flowers/rose/\"+i\n",
        "        img = plt.imread(path)\n",
        "        img = cv2.resize(img,(IMG_SIZE,IMG_SIZE))\n",
        "        x_.append(img)\n",
        "        y.append(2)\n",
        "    except:\n",
        "        None\n",
        "for i in os.listdir(\"/content/drive/MyDrive/flowers/sunflower\"):\n",
        "    try:\n",
        "        path = \"/content/drive/MyDrive/flowers/sunflower/\"+i\n",
        "        img = plt.imread(path)\n",
        "        img = cv2.resize(img,(IMG_SIZE,IMG_SIZE))\n",
        "        x_.append(img)\n",
        "        y.append(3)\n",
        "    except:\n",
        "        None\n",
        "for i in os.listdir(\"/content/drive/MyDrive/flowers/tulip\"):\n",
        "    try:\n",
        "        path = \"/content/drive/MyDrive/flowers/tulip/\"+i\n",
        "        img = plt.imread(path)\n",
        "        img = cv2.resize(img,(IMG_SIZE,IMG_SIZE))\n",
        "        x_.append(img)\n",
        "        y.append(4)\n",
        "    except:\n",
        "        None\n",
        "x_ = np.array(x_)"
      ],
      "metadata": {
        "id": "m-68gJ_95K4d"
      },
      "execution_count": 5,
      "outputs": []
    },
    {
      "cell_type": "code",
      "source": [
        "# for replacement process i'll use keras.to_categorical \n",
        "from keras.utils.np_utils import to_categorical\n",
        "y = to_categorical(y,num_classes = 5)"
      ],
      "metadata": {
        "id": "cd1nIncw6eMo"
      },
      "execution_count": 7,
      "outputs": []
    },
    {
      "cell_type": "code",
      "source": [
        "# test split\n",
        "x_train,x_test,y_train,y_test = train_test_split(x_,y,test_size = 0.15,random_state = 42)\n",
        "# validation and trains split\n",
        "x_train,x_val,y_train,y_val = train_test_split(x_train,y_train,test_size = 0.15,random_state = 42)"
      ],
      "metadata": {
        "id": "sE6xwMUu6uR-"
      },
      "execution_count": 8,
      "outputs": []
    },
    {
      "cell_type": "code",
      "source": [
        "x_train.shape,x_test.shape,x_val.shape"
      ],
      "metadata": {
        "colab": {
          "base_uri": "https://localhost:8080/"
        },
        "id": "7G_xaGVp7ix9",
        "outputId": "03f56eac-8d62-42a8-b44d-974b0e1ae208"
      },
      "execution_count": 16,
      "outputs": [
        {
          "output_type": "execute_result",
          "data": {
            "text/plain": [
              "((3118, 128, 128, 3), (648, 128, 128, 3), (551, 128, 128, 3))"
            ]
          },
          "metadata": {},
          "execution_count": 16
        }
      ]
    },
    {
      "cell_type": "code",
      "source": [
        "epoch = 50 \n",
        "batch_size = 64"
      ],
      "metadata": {
        "id": "n8blfrRX8uCe"
      },
      "execution_count": 59,
      "outputs": []
    },
    {
      "cell_type": "code",
      "source": [
        "datagen = ImageDataGenerator(\n",
        "    featurewise_center=False,  # set input mean to 0 over the dataset\n",
        "    samplewise_center=False,  # set each sample mean to 0\n",
        "    featurewise_std_normalization=False,  # divide inputs by std of the dataset\n",
        "    samplewise_std_normalization=False,  # divide each input by its std\n",
        "    rotation_range=60,  # randomly rotate images in the range (60, 0 to 180)\n",
        "    zoom_range = 0.1, # Randomly zoom image \n",
        "    width_shift_range=0.1,  # randomly shift images horizontally (fraction of total width)\n",
        "    height_shift_range=0.1,\n",
        "    shear_range=0.1,\n",
        "    fill_mode = \"reflect\"\n",
        "    ) \n",
        "datagen.fit(x_train)"
      ],
      "metadata": {
        "id": "YShqNBMf1HfL"
      },
      "execution_count": 17,
      "outputs": []
    },
    {
      "cell_type": "code",
      "source": [
        "#data可視化\n",
        "sns.barplot(x=['tulip','roses','dandelion','sunflower','daisy'] , y=[len(os.listdir('/content/drive/MyDrive/flowers/tulip')),\n",
        "                                    len(os.listdir('/content/drive/MyDrive/flowers/rose')),\n",
        "                                    len(os.listdir('/content/drive/MyDrive/flowers/dandelion')),\n",
        "                                    len(os.listdir('/content/drive/MyDrive/flowers/sunflower')),\n",
        "                                    len(os.listdir('/content/drive/MyDrive/flowers/daisy'))])"
      ],
      "metadata": {
        "colab": {
          "base_uri": "https://localhost:8080/",
          "height": 282
        },
        "id": "ln2G2Q09fdxP",
        "outputId": "cc25122d-8796-461f-b518-04af9e80f36f"
      },
      "execution_count": null,
      "outputs": [
        {
          "output_type": "execute_result",
          "data": {
            "text/plain": [
              "<matplotlib.axes._subplots.AxesSubplot at 0x7f708f7b0e90>"
            ]
          },
          "metadata": {},
          "execution_count": 17
        },
        {
          "output_type": "display_data",
          "data": {
            "text/plain": [
              "<Figure size 432x288 with 1 Axes>"
            ],
            "image/png": "[encoded data removed]"
          },
          "metadata": {
            "needs_background": "light"
          }
        }
      ]
    },
    {
      "cell_type": "code",
      "source": [
        "##影像資料增補\n",
        "data_augmentation = keras.Sequential([\n",
        "    preprocessing.RandomZoom(0.1),\n",
        "    preprocessing.RandomFlip(mode=\"horizontal\"),\n",
        "    preprocessing.RandomRotation(factor=0.1),\n",
        "    \n",
        "])"
      ],
      "metadata": {
        "id": "p6ls7KgHmkAW"
      },
      "execution_count": 19,
      "outputs": []
    },
    {
      "cell_type": "code",
      "source": [
        "model = keras.Sequential([\n",
        "    \n",
        "    \n",
        "    layers.InputLayer(input_shape=[128, 128, 3]),\n",
        "    \n",
        "    #Data preprocessing\n",
        "    data_augmentation,\n",
        "    \n",
        "    layers.Rescaling(1./255),\n",
        "\n",
        "    \n",
        "    #Base\n",
        "    layers.BatchNormalization(),\n",
        "    layers.Conv2D(filters=64, kernel_size=3, activation=\"relu\", padding='same'), \n",
        "    layers.MaxPool2D(pool_size=(2,2),strides=(2,2)),\n",
        "    layers.Dropout(0.2),\n",
        "\n",
        "    layers.BatchNormalization(),\n",
        "    layers.Conv2D(filters=64, kernel_size=3, activation=\"relu\", padding='same'), \n",
        "    layers.MaxPool2D(pool_size=(2,2),strides=(2,2)),\n",
        "    layers.Dropout(0.3),\n",
        "\n",
        "    layers.BatchNormalization(),\n",
        "    layers.Conv2D(filters=64, kernel_size=3, activation=\"relu\", padding='same'), \n",
        "    layers.MaxPool2D(pool_size=(2,2),strides=(2,2)),\n",
        "    layers.Dropout(0.3),\n",
        "\n",
        "    layers.BatchNormalization(),\n",
        "    layers.Conv2D(filters=64, kernel_size=3, activation=\"relu\", padding='same'), \n",
        "    layers.MaxPool2D(pool_size=(2,2),strides=(2,2)),\n",
        "    layers.Dropout(0.2),\n",
        "    \n",
        "    layers.BatchNormalization(),\n",
        "    layers.Conv2D(filters=64, kernel_size=3, activation=\"relu\", padding='same'),\n",
        "    layers.MaxPool2D(pool_size=(2,2),strides=(2,2)),\n",
        "    layers.Dropout(0.3), \n",
        "    # Head\n",
        "    layers.BatchNormalization(),\n",
        "    layers.GlobalMaxPooling2D(),\n",
        "    layers.Dense(5,activation=\"softmax\") #output\n",
        "])"
      ],
      "metadata": {
        "id": "8m8K9_7U9je2"
      },
      "execution_count": 57,
      "outputs": []
    },
    {
      "cell_type": "code",
      "source": [
        "# 輸出模型摘要資訊\n",
        "model.summary()"
      ],
      "metadata": {
        "colab": {
          "base_uri": "https://localhost:8080/"
        },
        "id": "jH64FlfYs9Jh",
        "outputId": "155b58a4-fe58-45fd-f234-afde1021d59d"
      },
      "execution_count": 58,
      "outputs": [
        {
          "output_type": "stream",
          "name": "stdout",
          "text": [
            "Model: \"sequential_7\"\n",
            "_________________________________________________________________\n",
            " Layer (type)                Output Shape              Param #   \n",
            "=================================================================\n",
            " sequential (Sequential)     (None, 128, 128, 3)       0         \n",
            "                                                                 \n",
            " rescaling_7 (Rescaling)     (None, 128, 128, 3)       0         \n",
            "                                                                 \n",
            " batch_normalization_30 (Bat  (None, 128, 128, 3)      12        \n",
            " chNormalization)                                                \n",
            "                                                                 \n",
            " conv2d_27 (Conv2D)          (None, 128, 128, 64)      1792      \n",
            "                                                                 \n",
            " max_pooling2d_23 (MaxPoolin  (None, 64, 64, 64)       0         \n",
            " g2D)                                                            \n",
            "                                                                 \n",
            " dropout_23 (Dropout)        (None, 64, 64, 64)        0         \n",
            "                                                                 \n",
            " batch_normalization_31 (Bat  (None, 64, 64, 64)       256       \n",
            " chNormalization)                                                \n",
            "                                                                 \n",
            " conv2d_28 (Conv2D)          (None, 64, 64, 64)        36928     \n",
            "                                                                 \n",
            " max_pooling2d_24 (MaxPoolin  (None, 32, 32, 64)       0         \n",
            " g2D)                                                            \n",
            "                                                                 \n",
            " dropout_24 (Dropout)        (None, 32, 32, 64)        0         \n",
            "                                                                 \n",
            " batch_normalization_32 (Bat  (None, 32, 32, 64)       256       \n",
            " chNormalization)                                                \n",
            "                                                                 \n",
            " conv2d_29 (Conv2D)          (None, 32, 32, 64)        36928     \n",
            "                                                                 \n",
            " max_pooling2d_25 (MaxPoolin  (None, 16, 16, 64)       0         \n",
            " g2D)                                                            \n",
            "                                                                 \n",
            " dropout_25 (Dropout)        (None, 16, 16, 64)        0         \n",
            "                                                                 \n",
            " batch_normalization_33 (Bat  (None, 16, 16, 64)       256       \n",
            " chNormalization)                                                \n",
            "                                                                 \n",
            " conv2d_30 (Conv2D)          (None, 16, 16, 64)        36928     \n",
            "                                                                 \n",
            " max_pooling2d_26 (MaxPoolin  (None, 8, 8, 64)         0         \n",
            " g2D)                                                            \n",
            "                                                                 \n",
            " dropout_26 (Dropout)        (None, 8, 8, 64)          0         \n",
            "                                                                 \n",
            " batch_normalization_34 (Bat  (None, 8, 8, 64)         256       \n",
            " chNormalization)                                                \n",
            "                                                                 \n",
            " conv2d_31 (Conv2D)          (None, 8, 8, 64)          36928     \n",
            "                                                                 \n",
            " max_pooling2d_27 (MaxPoolin  (None, 4, 4, 64)         0         \n",
            " g2D)                                                            \n",
            "                                                                 \n",
            " dropout_27 (Dropout)        (None, 4, 4, 64)          0         \n",
            "                                                                 \n",
            " batch_normalization_35 (Bat  (None, 4, 4, 64)         256       \n",
            " chNormalization)                                                \n",
            "                                                                 \n",
            " global_max_pooling2d_7 (Glo  (None, 64)               0         \n",
            " balMaxPooling2D)                                                \n",
            "                                                                 \n",
            " dense_5 (Dense)             (None, 5)                 325       \n",
            "                                                                 \n",
            "=================================================================\n",
            "Total params: 151,121\n",
            "Trainable params: 150,475\n",
            "Non-trainable params: 646\n",
            "_________________________________________________________________\n"
          ]
        }
      ]
    },
    {
      "cell_type": "code",
      "source": [
        "#reduce the learnng rate\n",
        "reduce_lr = tf.keras.callbacks.ReduceLROnPlateau(monitor='val_loss', factor=0.1,\n",
        "                              patience=2, min_lr=0.00001)\n",
        "#definindo optimizador\n",
        "optimizer = tf.keras.optimizers.Adam(epsilon=0.01,learning_rate=0.01)"
      ],
      "metadata": {
        "id": "2nota4ef4zJy"
      },
      "execution_count": 44,
      "outputs": []
    },
    {
      "cell_type": "code",
      "source": [
        "# 編譯: 選擇損失函數、優化方法及成效衡量方式\n",
        "model.compile(\n",
        "    optimizer=optimizer,\n",
        "    loss=\"categorical_crossentropy\",\n",
        "    metrics=['accuracy'],\n",
        ")\n",
        "\n",
        "# 進行訓練, 訓練過程會存在 history 變數中\n",
        "history = model.fit_generator(datagen.flow(x_train,y_train,batch_size=batch_size),\n",
        "                        epochs= epoch,validation_data=(x_val,y_val),\n",
        "                        steps_per_epoch=x_train.shape[0] // batch_size\n",
        "                              )"
      ],
      "metadata": {
        "colab": {
          "base_uri": "https://localhost:8080/"
        },
        "id": "Qcx-dj1jZAFR",
        "outputId": "9e94090c-e5ee-4363-a739-ecfed5449d21"
      },
      "execution_count": 60,
      "outputs": [
        {
          "output_type": "stream",
          "name": "stderr",
          "text": [
            "/usr/local/lib/python3.7/dist-packages/ipykernel_launcher.py:11: UserWarning: `Model.fit_generator` is deprecated and will be removed in a future version. Please use `Model.fit`, which supports generators.\n",
            "  # This is added back by InteractiveShellApp.init_path()\n"
          ]
        },
        {
          "output_type": "stream",
          "name": "stdout",
          "text": [
            "Epoch 1/50\n",
            "48/48 [==============================] - 18s 317ms/step - loss: 1.5855 - accuracy: 0.4250 - val_loss: 2.3601 - val_accuracy: 0.3448\n",
            "Epoch 2/50\n",
            "48/48 [==============================] - 15s 308ms/step - loss: 1.1585 - accuracy: 0.5219 - val_loss: 1.2188 - val_accuracy: 0.5082\n",
            "Epoch 3/50\n",
            "48/48 [==============================] - 15s 306ms/step - loss: 1.1128 - accuracy: 0.5544 - val_loss: 1.2520 - val_accuracy: 0.4501\n",
            "Epoch 4/50\n",
            "48/48 [==============================] - 15s 307ms/step - loss: 1.0543 - accuracy: 0.5842 - val_loss: 1.2274 - val_accuracy: 0.4955\n",
            "Epoch 5/50\n",
            "48/48 [==============================] - 15s 307ms/step - loss: 0.9958 - accuracy: 0.6009 - val_loss: 1.1545 - val_accuracy: 0.5318\n",
            "Epoch 6/50\n",
            "48/48 [==============================] - 15s 307ms/step - loss: 0.9657 - accuracy: 0.6189 - val_loss: 1.0817 - val_accuracy: 0.5844\n",
            "Epoch 7/50\n",
            "48/48 [==============================] - 15s 305ms/step - loss: 0.9378 - accuracy: 0.6388 - val_loss: 1.0225 - val_accuracy: 0.6279\n",
            "Epoch 8/50\n",
            "48/48 [==============================] - 15s 306ms/step - loss: 0.9091 - accuracy: 0.6493 - val_loss: 1.0024 - val_accuracy: 0.6152\n",
            "Epoch 9/50\n",
            "48/48 [==============================] - 15s 309ms/step - loss: 0.8530 - accuracy: 0.6696 - val_loss: 1.0254 - val_accuracy: 0.6007\n",
            "Epoch 10/50\n",
            "48/48 [==============================] - 15s 308ms/step - loss: 0.8601 - accuracy: 0.6719 - val_loss: 0.9141 - val_accuracy: 0.6733\n",
            "Epoch 11/50\n",
            "48/48 [==============================] - 15s 311ms/step - loss: 0.8464 - accuracy: 0.6667 - val_loss: 0.9338 - val_accuracy: 0.6189\n",
            "Epoch 12/50\n",
            "48/48 [==============================] - 15s 307ms/step - loss: 0.8228 - accuracy: 0.6801 - val_loss: 1.2073 - val_accuracy: 0.5880\n",
            "Epoch 13/50\n",
            "48/48 [==============================] - 15s 304ms/step - loss: 0.8387 - accuracy: 0.6722 - val_loss: 0.8389 - val_accuracy: 0.6987\n",
            "Epoch 14/50\n",
            "48/48 [==============================] - 15s 305ms/step - loss: 0.7917 - accuracy: 0.6958 - val_loss: 0.8868 - val_accuracy: 0.6352\n",
            "Epoch 15/50\n",
            "48/48 [==============================] - 15s 308ms/step - loss: 0.7977 - accuracy: 0.7004 - val_loss: 0.8576 - val_accuracy: 0.6715\n",
            "Epoch 16/50\n",
            "48/48 [==============================] - 15s 307ms/step - loss: 0.7548 - accuracy: 0.7037 - val_loss: 0.8770 - val_accuracy: 0.6733\n",
            "Epoch 17/50\n",
            "48/48 [==============================] - 15s 306ms/step - loss: 0.7720 - accuracy: 0.6958 - val_loss: 0.8472 - val_accuracy: 0.6878\n",
            "Epoch 18/50\n",
            "48/48 [==============================] - 15s 305ms/step - loss: 0.7640 - accuracy: 0.7046 - val_loss: 0.7830 - val_accuracy: 0.7024\n",
            "Epoch 19/50\n",
            "48/48 [==============================] - 15s 306ms/step - loss: 0.7358 - accuracy: 0.7227 - val_loss: 0.8286 - val_accuracy: 0.6969\n",
            "Epoch 20/50\n",
            "48/48 [==============================] - 15s 308ms/step - loss: 0.7390 - accuracy: 0.7187 - val_loss: 0.8015 - val_accuracy: 0.7060\n",
            "Epoch 21/50\n",
            "48/48 [==============================] - 15s 307ms/step - loss: 0.7171 - accuracy: 0.7217 - val_loss: 0.7785 - val_accuracy: 0.7241\n",
            "Epoch 22/50\n",
            "48/48 [==============================] - 15s 307ms/step - loss: 0.7047 - accuracy: 0.7286 - val_loss: 0.8033 - val_accuracy: 0.6915\n",
            "Epoch 23/50\n",
            "48/48 [==============================] - 15s 308ms/step - loss: 0.7017 - accuracy: 0.7371 - val_loss: 0.7988 - val_accuracy: 0.6951\n",
            "Epoch 24/50\n",
            "48/48 [==============================] - 15s 308ms/step - loss: 0.7007 - accuracy: 0.7374 - val_loss: 0.8021 - val_accuracy: 0.7151\n",
            "Epoch 25/50\n",
            "48/48 [==============================] - 15s 306ms/step - loss: 0.6847 - accuracy: 0.7384 - val_loss: 0.7210 - val_accuracy: 0.7296\n",
            "Epoch 26/50\n",
            "48/48 [==============================] - 15s 306ms/step - loss: 0.7005 - accuracy: 0.7250 - val_loss: 0.7219 - val_accuracy: 0.7368\n",
            "Epoch 27/50\n",
            "48/48 [==============================] - 15s 311ms/step - loss: 0.6525 - accuracy: 0.7531 - val_loss: 0.6881 - val_accuracy: 0.7514\n",
            "Epoch 28/50\n",
            "48/48 [==============================] - 15s 307ms/step - loss: 0.6697 - accuracy: 0.7492 - val_loss: 0.7215 - val_accuracy: 0.7151\n",
            "Epoch 29/50\n",
            "48/48 [==============================] - 15s 307ms/step - loss: 0.6513 - accuracy: 0.7453 - val_loss: 0.7341 - val_accuracy: 0.7332\n",
            "Epoch 30/50\n",
            "48/48 [==============================] - 15s 306ms/step - loss: 0.6507 - accuracy: 0.7554 - val_loss: 0.7169 - val_accuracy: 0.7169\n",
            "Epoch 31/50\n",
            "48/48 [==============================] - 15s 305ms/step - loss: 0.6559 - accuracy: 0.7525 - val_loss: 0.7197 - val_accuracy: 0.7405\n",
            "Epoch 32/50\n",
            "48/48 [==============================] - 15s 306ms/step - loss: 0.6205 - accuracy: 0.7682 - val_loss: 0.7141 - val_accuracy: 0.7260\n",
            "Epoch 33/50\n",
            "48/48 [==============================] - 15s 308ms/step - loss: 0.6113 - accuracy: 0.7672 - val_loss: 0.7421 - val_accuracy: 0.7314\n",
            "Epoch 34/50\n",
            "48/48 [==============================] - 15s 307ms/step - loss: 0.6350 - accuracy: 0.7583 - val_loss: 0.7151 - val_accuracy: 0.7368\n",
            "Epoch 35/50\n",
            "48/48 [==============================] - 15s 306ms/step - loss: 0.6199 - accuracy: 0.7705 - val_loss: 0.7721 - val_accuracy: 0.7132\n",
            "Epoch 36/50\n",
            "48/48 [==============================] - 15s 308ms/step - loss: 0.6110 - accuracy: 0.7626 - val_loss: 0.7213 - val_accuracy: 0.7550\n",
            "Epoch 37/50\n",
            "48/48 [==============================] - 15s 306ms/step - loss: 0.5932 - accuracy: 0.7734 - val_loss: 0.7602 - val_accuracy: 0.7096\n",
            "Epoch 38/50\n",
            "48/48 [==============================] - 15s 309ms/step - loss: 0.6265 - accuracy: 0.7610 - val_loss: 0.7220 - val_accuracy: 0.7223\n",
            "Epoch 39/50\n",
            "48/48 [==============================] - 15s 306ms/step - loss: 0.5724 - accuracy: 0.7849 - val_loss: 0.7302 - val_accuracy: 0.7368\n",
            "Epoch 40/50\n",
            "48/48 [==============================] - 15s 307ms/step - loss: 0.5592 - accuracy: 0.7868 - val_loss: 0.6625 - val_accuracy: 0.7659\n",
            "Epoch 41/50\n",
            "48/48 [==============================] - 15s 308ms/step - loss: 0.5581 - accuracy: 0.7940 - val_loss: 0.6165 - val_accuracy: 0.7750\n",
            "Epoch 42/50\n",
            "48/48 [==============================] - 15s 310ms/step - loss: 0.5726 - accuracy: 0.7842 - val_loss: 0.6607 - val_accuracy: 0.7495\n",
            "Epoch 43/50\n",
            "48/48 [==============================] - 15s 307ms/step - loss: 0.5579 - accuracy: 0.7927 - val_loss: 0.7058 - val_accuracy: 0.7405\n",
            "Epoch 44/50\n",
            "48/48 [==============================] - 15s 308ms/step - loss: 0.5797 - accuracy: 0.7826 - val_loss: 0.6373 - val_accuracy: 0.7586\n",
            "Epoch 45/50\n",
            "48/48 [==============================] - 15s 309ms/step - loss: 0.5500 - accuracy: 0.7917 - val_loss: 0.6521 - val_accuracy: 0.7441\n",
            "Epoch 46/50\n",
            "48/48 [==============================] - 15s 307ms/step - loss: 0.5594 - accuracy: 0.7816 - val_loss: 0.7520 - val_accuracy: 0.7042\n",
            "Epoch 47/50\n",
            "48/48 [==============================] - 15s 308ms/step - loss: 0.5370 - accuracy: 0.7917 - val_loss: 0.8299 - val_accuracy: 0.7078\n",
            "Epoch 48/50\n",
            "48/48 [==============================] - 15s 307ms/step - loss: 0.5449 - accuracy: 0.7934 - val_loss: 0.7661 - val_accuracy: 0.6987\n",
            "Epoch 49/50\n",
            "48/48 [==============================] - 15s 307ms/step - loss: 0.5704 - accuracy: 0.7823 - val_loss: 0.6690 - val_accuracy: 0.7423\n",
            "Epoch 50/50\n",
            "48/48 [==============================] - 15s 308ms/step - loss: 0.5263 - accuracy: 0.7970 - val_loss: 0.6194 - val_accuracy: 0.7786\n"
          ]
        }
      ]
    },
    {
      "cell_type": "code",
      "source": [
        "print(\"Test Accuracy: {0:.2f}%\".format(model.evaluate(x_test,y_test)[1]*100)) #get score acording to test datas"
      ],
      "metadata": {
        "colab": {
          "base_uri": "https://localhost:8080/"
        },
        "id": "eYmBGp44CWoK",
        "outputId": "2ce269e7-f9ce-4bd9-8ee1-b46dc3ae819f"
      },
      "execution_count": 61,
      "outputs": [
        {
          "output_type": "stream",
          "name": "stdout",
          "text": [
            "21/21 [==============================] - 0s 19ms/step - loss: 0.6356 - accuracy: 0.7762\n",
            "Test Accuracy: 77.62%\n"
          ]
        }
      ]
    },
    {
      "cell_type": "code",
      "source": [
        "Y_pred = model.predict(x_val)\n",
        "Y_pred_classes = np.argmax(Y_pred,axis = 1)\n",
        "Y_true = np.argmax(y_val,axis = 1)\n",
        "confusion_mtx = confusion_matrix(Y_true,Y_pred_classes)\n",
        "f,ax = plt.subplots(figsize = (8,8))\n",
        "sns.heatmap(confusion_mtx,annot=True,linewidths = 0.01,cmap=\"Reds\",\n",
        "            linecolor = \"gray\",fmt = \".2f\",ax=ax\n",
        "            )\n",
        "plt.xlabel(\"predicted label\")\n",
        "plt.ylabel(\"True Label\")\n",
        "plt.title(\"confusion matrix\")\n",
        "plt.show()"
      ],
      "metadata": {
        "colab": {
          "base_uri": "https://localhost:8080/",
          "height": 513
        },
        "id": "v38T_f9qCI3T",
        "outputId": "a18ae008-bd2a-414c-e20f-1c8a941f32bb"
      },
      "execution_count": 62,
      "outputs": [
        {
          "output_type": "display_data",
          "data": {
            "text/plain": [
              "<Figure size 576x576 with 2 Axes>"
            ],
            "image/png": "[encoded data removed]"
          },
          "metadata": {
            "needs_background": "light"
          }
        }
      ]
    },
    {
      "cell_type": "code",
      "source": [
        "print(confusion_matrix(y_test,y_test))"
      ],
      "metadata": {
        "colab": {
          "base_uri": "https://localhost:8080/",
          "height": 313
        },
        "id": "1r_0rOGMDK9n",
        "outputId": "6a27bb6d-e63b-4642-a27c-fd0bc05569a7"
      },
      "execution_count": 63,
      "outputs": [
        {
          "output_type": "error",
          "ename": "ValueError",
          "evalue": "ignored",
          "traceback": [
            "\u001b[0;31m---------------------------------------------------------------------------\u001b[0m",
            "\u001b[0;31mValueError\u001b[0m                                Traceback (most recent call last)",
            "\u001b[0;32m<ipython-input-63-1bd1a3e6b20a>\u001b[0m in \u001b[0;36m<module>\u001b[0;34m()\u001b[0m\n\u001b[0;32m----> 1\u001b[0;31m \u001b[0mprint\u001b[0m\u001b[0;34m(\u001b[0m\u001b[0mconfusion_matrix\u001b[0m\u001b[0;34m(\u001b[0m\u001b[0mx_test\u001b[0m\u001b[0;34m,\u001b[0m\u001b[0my_test\u001b[0m\u001b[0;34m)\u001b[0m\u001b[0;34m)\u001b[0m\u001b[0;34m\u001b[0m\u001b[0;34m\u001b[0m\u001b[0m\n\u001b[0m",
            "\u001b[0;32m/usr/local/lib/python3.7/dist-packages/sklearn/metrics/_classification.py\u001b[0m in \u001b[0;36mconfusion_matrix\u001b[0;34m(y_true, y_pred, labels, sample_weight, normalize)\u001b[0m\n\u001b[1;32m    305\u001b[0m     \u001b[0;34m(\u001b[0m\u001b[0;36m0\u001b[0m\u001b[0;34m,\u001b[0m \u001b[0;36m2\u001b[0m\u001b[0;34m,\u001b[0m \u001b[0;36m1\u001b[0m\u001b[0;34m,\u001b[0m \u001b[0;36m1\u001b[0m\u001b[0;34m)\u001b[0m\u001b[0;34m\u001b[0m\u001b[0;34m\u001b[0m\u001b[0m\n\u001b[1;32m    306\u001b[0m     \"\"\"\n\u001b[0;32m--> 307\u001b[0;31m     \u001b[0my_type\u001b[0m\u001b[0;34m,\u001b[0m \u001b[0my_true\u001b[0m\u001b[0;34m,\u001b[0m \u001b[0my_pred\u001b[0m \u001b[0;34m=\u001b[0m \u001b[0m_check_targets\u001b[0m\u001b[0;34m(\u001b[0m\u001b[0my_true\u001b[0m\u001b[0;34m,\u001b[0m \u001b[0my_pred\u001b[0m\u001b[0;34m)\u001b[0m\u001b[0;34m\u001b[0m\u001b[0;34m\u001b[0m\u001b[0m\n\u001b[0m\u001b[1;32m    308\u001b[0m     \u001b[0;32mif\u001b[0m \u001b[0my_type\u001b[0m \u001b[0;32mnot\u001b[0m \u001b[0;32min\u001b[0m \u001b[0;34m(\u001b[0m\u001b[0;34m\"binary\"\u001b[0m\u001b[0;34m,\u001b[0m \u001b[0;34m\"multiclass\"\u001b[0m\u001b[0;34m)\u001b[0m\u001b[0;34m:\u001b[0m\u001b[0;34m\u001b[0m\u001b[0;34m\u001b[0m\u001b[0m\n\u001b[1;32m    309\u001b[0m         \u001b[0;32mraise\u001b[0m \u001b[0mValueError\u001b[0m\u001b[0;34m(\u001b[0m\u001b[0;34m\"%s is not supported\"\u001b[0m \u001b[0;34m%\u001b[0m \u001b[0my_type\u001b[0m\u001b[0;34m)\u001b[0m\u001b[0;34m\u001b[0m\u001b[0;34m\u001b[0m\u001b[0m\n",
            "\u001b[0;32m/usr/local/lib/python3.7/dist-packages/sklearn/metrics/_classification.py\u001b[0m in \u001b[0;36m_check_targets\u001b[0;34m(y_true, y_pred)\u001b[0m\n\u001b[1;32m     93\u001b[0m         raise ValueError(\n\u001b[1;32m     94\u001b[0m             \"Classification metrics can't handle a mix of {0} and {1} targets\".format(\n\u001b[0;32m---> 95\u001b[0;31m                 \u001b[0mtype_true\u001b[0m\u001b[0;34m,\u001b[0m \u001b[0mtype_pred\u001b[0m\u001b[0;34m\u001b[0m\u001b[0;34m\u001b[0m\u001b[0m\n\u001b[0m\u001b[1;32m     96\u001b[0m             )\n\u001b[1;32m     97\u001b[0m         )\n",
            "\u001b[0;31mValueError\u001b[0m: Classification metrics can't handle a mix of unknown and multilabel-indicator targets"
          ]
        }
      ]
    },
    {
      "cell_type": "code",
      "source": [
        "# Plot learning curves\n",
        "history_frame = pd.DataFrame(history.history)\n",
        "history_frame.loc[:, ['loss', 'val_loss']].plot()\n",
        "history_frame.loc[:, ['accuracy', 'val_accuracy']].plot();"
      ],
      "metadata": {
        "id": "POCcC6F3oL5t",
        "colab": {
          "base_uri": "https://localhost:8080/",
          "height": 513
        },
        "outputId": "0a7f26a9-043c-421f-8553-1863e4bd22dc"
      },
      "execution_count": null,
      "outputs": [
        {
          "output_type": "display_data",
          "data": {
            "text/plain": [
              "<Figure size 432x288 with 1 Axes>"
            ],
            "image/png": "[encoded data removed]"
          },
          "metadata": {
            "needs_background": "light"
          }
        },
        {
          "output_type": "display_data",
          "data": {
            "text/plain": [
              "<Figure size 432x288 with 1 Axes>"
            ],
            "image/png": "[encoded data removed]"
          },
          "metadata": {
            "needs_background": "light"
          }
        }
      ]
    }
  ]
}