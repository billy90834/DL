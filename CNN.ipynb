{
  "nbformat": 4,
  "nbformat_minor": 0,
  "metadata": {
    "colab": {
      "name": "CNN.ipynb",
      "provenance": [],
      "collapsed_sections": [],
      "mount_file_id": "1xpYa689KzdDXl3lof-61r5ZEBpP1IzI8",
      "authorship_tag": "ABX9TyP3yaSD0d94ZllBkO/d2uXW",
      "include_colab_link": true
    },
    "kernelspec": {
      "name": "python3",
      "display_name": "Python 3"
    },
    "language_info": {
      "name": "python"
    },
    "accelerator": "GPU"
  },
  "cells": [
    {
      "cell_type": "markdown",
      "metadata": {
        "id": "view-in-github",
        "colab_type": "text"
      },
      "source": [
        "<a href=\"https://colab.research.google.com/github/billy90834/DL/blob/main/CNN.ipynb\" target=\"_parent\"><img src=\"https://colab.research.google.com/assets/colab-badge.svg\" alt=\"Open In Colab\"/></a>"
      ]
    },
    {
      "cell_type": "code",
      "execution_count": 1,
      "metadata": {
        "id": "JSdnR7VdfqJI"
      },
      "outputs": [],
      "source": [
        "import os\n",
        "# Ignore  the warnings\n",
        "import matplotlib.pyplot as plt\n",
        "import numpy as np\n",
        "import pandas as pd\n",
        "import cv2\n",
        "import seaborn as sns\n",
        "import random as rn\n",
        "from sklearn.model_selection import train_test_split\n",
        "import glob as gb\n",
        "#imports \n",
        "from tensorflow import keras\n",
        "from tensorflow.keras import layers\n",
        "from tensorflow.keras.layers.experimental import preprocessing\n",
        "from sklearn.metrics import confusion_matrix, classification_report\n",
        "\n",
        "import tensorflow as tf\n",
        "from tensorflow.keras.preprocessing import image_dataset_from_directory\n",
        "from keras.preprocessing.image import ImageDataGenerator\n",
        "\n",
        "from tensorflow.keras import models\n",
        "from scipy.ndimage import zoom\n",
        "\n",
        "from keras.models import load_model\n",
        "from keras.applications.mobilenet_v2 import  preprocess_input ,MobileNetV2"
      ]
    },
    {
      "cell_type": "code",
      "source": [
        "x_ = list()\n",
        "y = list()\n",
        "IMG_SIZE = 128\n",
        "for i in os.listdir(\"/content/drive/MyDrive/flowers/daisy\"):\n",
        "    try:\n",
        "        path = \"/content/drive/MyDrive/flowers/daisy/\"+i\n",
        "        img = plt.imread(path)\n",
        "        img = cv2.resize(img,(IMG_SIZE,IMG_SIZE))\n",
        "        x_.append(img)\n",
        "        y.append(0)\n",
        "    except:\n",
        "        None\n",
        "for i in os.listdir(\"/content/drive/MyDrive/flowers/dandelion\"):\n",
        "    try:\n",
        "        path = \"/content/drive/MyDrive/flowers/dandelion/\"+i\n",
        "        img = plt.imread(path)\n",
        "        img = cv2.resize(img,(IMG_SIZE,IMG_SIZE))\n",
        "        x_.append(img)\n",
        "        y.append(1)\n",
        "    except:\n",
        "        None\n",
        "for i in os.listdir(\"/content/drive/MyDrive/flowers/rose\"):\n",
        "    try:\n",
        "        path = \"/content/drive/MyDrive/flowers/rose/\"+i\n",
        "        img = plt.imread(path)\n",
        "        img = cv2.resize(img,(IMG_SIZE,IMG_SIZE))\n",
        "        x_.append(img)\n",
        "        y.append(2)\n",
        "    except:\n",
        "        None\n",
        "for i in os.listdir(\"/content/drive/MyDrive/flowers/sunflower\"):\n",
        "    try:\n",
        "        path = \"/content/drive/MyDrive/flowers/sunflower/\"+i\n",
        "        img = plt.imread(path)\n",
        "        img = cv2.resize(img,(IMG_SIZE,IMG_SIZE))\n",
        "        x_.append(img)\n",
        "        y.append(3)\n",
        "    except:\n",
        "        None\n",
        "for i in os.listdir(\"/content/drive/MyDrive/flowers/tulip\"):\n",
        "    try:\n",
        "        path = \"/content/drive/MyDrive/flowers/tulip/\"+i\n",
        "        img = plt.imread(path)\n",
        "        img = cv2.resize(img,(IMG_SIZE,IMG_SIZE))\n",
        "        x_.append(img)\n",
        "        y.append(4)\n",
        "    except:\n",
        "        None\n",
        "x_ = np.array(x_)"
      ],
      "metadata": {
        "id": "m-68gJ_95K4d"
      },
      "execution_count": 2,
      "outputs": []
    },
    {
      "cell_type": "code",
      "source": [
        "# for replacement process i'll use keras.to_categorical \n",
        "from keras.utils.np_utils import to_categorical\n",
        "y = to_categorical(y,num_classes = 5)"
      ],
      "metadata": {
        "id": "cd1nIncw6eMo"
      },
      "execution_count": 3,
      "outputs": []
    },
    {
      "cell_type": "code",
      "source": [
        "# test split\n",
        "x_train,x_test,y_train,y_test = train_test_split(x_,y,test_size = 0.15,random_state = 42)\n",
        "# validation and trains split\n",
        "x_train,x_val,y_train,y_val = train_test_split(x_train,y_train,test_size = 0.15,random_state = 42)"
      ],
      "metadata": {
        "id": "sE6xwMUu6uR-"
      },
      "execution_count": 4,
      "outputs": []
    },
    {
      "cell_type": "code",
      "source": [
        "x_train.shape,x_test.shape,x_val.shape"
      ],
      "metadata": {
        "colab": {
          "base_uri": "https://localhost:8080/"
        },
        "id": "7G_xaGVp7ix9",
        "outputId": "a08c09f3-248d-4655-81e5-dec8f4c12ff9"
      },
      "execution_count": 5,
      "outputs": [
        {
          "output_type": "execute_result",
          "data": {
            "text/plain": [
              "((3118, 128, 128, 3), (648, 128, 128, 3), (551, 128, 128, 3))"
            ]
          },
          "metadata": {},
          "execution_count": 5
        }
      ]
    },
    {
      "cell_type": "code",
      "source": [
        "datagen = ImageDataGenerator(\n",
        "    featurewise_center=False,  # set input mean to 0 over the dataset\n",
        "    samplewise_center=False,  # set each sample mean to 0\n",
        "    featurewise_std_normalization=False,  # divide inputs by std of the dataset\n",
        "    samplewise_std_normalization=False,  # divide each input by its std\n",
        "    rotation_range=60,  # randomly rotate images in the range (60, 0 to 180)\n",
        "    zoom_range = 0.1, # Randomly zoom image \n",
        "    width_shift_range=0.1,  # randomly shift images horizontally (fraction of total width)\n",
        "    height_shift_range=0.1,\n",
        "    shear_range=0.1,\n",
        "    fill_mode = \"reflect\"\n",
        "    ) \n",
        "datagen.fit(x_train)"
      ],
      "metadata": {
        "id": "YShqNBMf1HfL"
      },
      "execution_count": 7,
      "outputs": []
    },
    {
      "cell_type": "code",
      "source": [
        "#data可視化\n",
        "sns.barplot(x=['tulip','roses','dandelion','sunflower','daisy'] , y=[len(os.listdir('/content/drive/MyDrive/flowers/tulip')),\n",
        "                                    len(os.listdir('/content/drive/MyDrive/flowers/rose')),\n",
        "                                    len(os.listdir('/content/drive/MyDrive/flowers/dandelion')),\n",
        "                                    len(os.listdir('/content/drive/MyDrive/flowers/sunflower')),\n",
        "                                    len(os.listdir('/content/drive/MyDrive/flowers/daisy'))])"
      ],
      "metadata": {
        "colab": {
          "base_uri": "https://localhost:8080/",
          "height": 282
        },
        "id": "ln2G2Q09fdxP",
        "outputId": "cc25122d-8796-461f-b518-04af9e80f36f"
      },
      "execution_count": null,
      "outputs": [
        {
          "output_type": "execute_result",
          "data": {
            "text/plain": [
              "<matplotlib.axes._subplots.AxesSubplot at 0x7f708f7b0e90>"
            ]
          },
          "metadata": {},
          "execution_count": 17
        },
        {
          "output_type": "display_data",
          "data": {
            "text/plain": [
              "<Figure size 432x288 with 1 Axes>"
            ],
            "image/png": "[encoded data removed]"
          },
          "metadata": {
            "needs_background": "light"
          }
        }
      ]
    },
    {
      "cell_type": "code",
      "source": [
        "##影像資料增補\n",
        "data_augmentation = keras.Sequential([\n",
        "    preprocessing.RandomZoom(0.1),\n",
        "    preprocessing.RandomFlip(mode=\"horizontal\"),\n",
        "    preprocessing.RandomRotation(factor=0.1),\n",
        "    \n",
        "])"
      ],
      "metadata": {
        "id": "p6ls7KgHmkAW"
      },
      "execution_count": 8,
      "outputs": []
    },
    {
      "cell_type": "code",
      "source": [
        "epoch = 50 \n",
        "batch_size = 64"
      ],
      "metadata": {
        "id": "n8blfrRX8uCe"
      },
      "execution_count": 6,
      "outputs": []
    },
    {
      "cell_type": "code",
      "source": [
        "model = keras.Sequential([\n",
        "    \n",
        "    \n",
        "    layers.InputLayer(input_shape=[128, 128, 3]),\n",
        "    \n",
        "    #Data preprocessing\n",
        "    data_augmentation,\n",
        "    \n",
        "    layers.Rescaling(1./255),\n",
        "\n",
        "    \n",
        "    #Base\n",
        "    layers.BatchNormalization(),\n",
        "    layers.Conv2D(filters=64, kernel_size=3, activation=\"relu\", padding='same'), \n",
        "    layers.MaxPool2D(pool_size=(2,2),strides=(2,2)),\n",
        "    layers.Dropout(0.2),\n",
        "\n",
        "    layers.BatchNormalization(),\n",
        "    layers.Conv2D(filters=64, kernel_size=3, activation=\"relu\", padding='same'), \n",
        "    layers.MaxPool2D(pool_size=(2,2),strides=(2,2)),\n",
        "    layers.Dropout(0.3),\n",
        "\n",
        "    layers.BatchNormalization(),\n",
        "    layers.Conv2D(filters=64, kernel_size=3, activation=\"relu\", padding='same'), \n",
        "    layers.MaxPool2D(pool_size=(2,2),strides=(2,2)),\n",
        "    layers.Dropout(0.3),\n",
        "\n",
        "    layers.BatchNormalization(),\n",
        "    layers.Conv2D(filters=64, kernel_size=3, activation=\"relu\", padding='same'), \n",
        "    layers.MaxPool2D(pool_size=(2,2),strides=(2,2)),\n",
        "    layers.Dropout(0.2),\n",
        "    \n",
        "    layers.BatchNormalization(),\n",
        "    layers.Conv2D(filters=64, kernel_size=3, activation=\"relu\", padding='same'),\n",
        "    layers.MaxPool2D(pool_size=(2,2),strides=(2,2)),\n",
        "    layers.Dropout(0.3), \n",
        "    # Head\n",
        "    layers.BatchNormalization(),\n",
        "    layers.GlobalMaxPooling2D(),\n",
        "    layers.Dense(5,activation=\"softmax\") #output\n",
        "])"
      ],
      "metadata": {
        "id": "8m8K9_7U9je2"
      },
      "execution_count": 9,
      "outputs": []
    },
    {
      "cell_type": "code",
      "source": [
        "# 輸出模型摘要資訊\n",
        "model.summary()"
      ],
      "metadata": {
        "colab": {
          "base_uri": "https://localhost:8080/"
        },
        "id": "jH64FlfYs9Jh",
        "outputId": "bd270949-b0b2-4ba7-fe72-cb8ada307b8a"
      },
      "execution_count": 10,
      "outputs": [
        {
          "output_type": "stream",
          "name": "stdout",
          "text": [
            "Model: \"sequential_1\"\n",
            "_________________________________________________________________\n",
            " Layer (type)                Output Shape              Param #   \n",
            "=================================================================\n",
            " sequential (Sequential)     (None, 128, 128, 3)       0         \n",
            "                                                                 \n",
            " rescaling (Rescaling)       (None, 128, 128, 3)       0         \n",
            "                                                                 \n",
            " batch_normalization (BatchN  (None, 128, 128, 3)      12        \n",
            " ormalization)                                                   \n",
            "                                                                 \n",
            " conv2d (Conv2D)             (None, 128, 128, 64)      1792      \n",
            "                                                                 \n",
            " max_pooling2d (MaxPooling2D  (None, 64, 64, 64)       0         \n",
            " )                                                               \n",
            "                                                                 \n",
            " dropout (Dropout)           (None, 64, 64, 64)        0         \n",
            "                                                                 \n",
            " batch_normalization_1 (Batc  (None, 64, 64, 64)       256       \n",
            " hNormalization)                                                 \n",
            "                                                                 \n",
            " conv2d_1 (Conv2D)           (None, 64, 64, 64)        36928     \n",
            "                                                                 \n",
            " max_pooling2d_1 (MaxPooling  (None, 32, 32, 64)       0         \n",
            " 2D)                                                             \n",
            "                                                                 \n",
            " dropout_1 (Dropout)         (None, 32, 32, 64)        0         \n",
            "                                                                 \n",
            " batch_normalization_2 (Batc  (None, 32, 32, 64)       256       \n",
            " hNormalization)                                                 \n",
            "                                                                 \n",
            " conv2d_2 (Conv2D)           (None, 32, 32, 64)        36928     \n",
            "                                                                 \n",
            " max_pooling2d_2 (MaxPooling  (None, 16, 16, 64)       0         \n",
            " 2D)                                                             \n",
            "                                                                 \n",
            " dropout_2 (Dropout)         (None, 16, 16, 64)        0         \n",
            "                                                                 \n",
            " batch_normalization_3 (Batc  (None, 16, 16, 64)       256       \n",
            " hNormalization)                                                 \n",
            "                                                                 \n",
            " conv2d_3 (Conv2D)           (None, 16, 16, 64)        36928     \n",
            "                                                                 \n",
            " max_pooling2d_3 (MaxPooling  (None, 8, 8, 64)         0         \n",
            " 2D)                                                             \n",
            "                                                                 \n",
            " dropout_3 (Dropout)         (None, 8, 8, 64)          0         \n",
            "                                                                 \n",
            " batch_normalization_4 (Batc  (None, 8, 8, 64)         256       \n",
            " hNormalization)                                                 \n",
            "                                                                 \n",
            " conv2d_4 (Conv2D)           (None, 8, 8, 64)          36928     \n",
            "                                                                 \n",
            " max_pooling2d_4 (MaxPooling  (None, 4, 4, 64)         0         \n",
            " 2D)                                                             \n",
            "                                                                 \n",
            " dropout_4 (Dropout)         (None, 4, 4, 64)          0         \n",
            "                                                                 \n",
            " batch_normalization_5 (Batc  (None, 4, 4, 64)         256       \n",
            " hNormalization)                                                 \n",
            "                                                                 \n",
            " global_max_pooling2d (Globa  (None, 64)               0         \n",
            " lMaxPooling2D)                                                  \n",
            "                                                                 \n",
            " dense (Dense)               (None, 5)                 325       \n",
            "                                                                 \n",
            "=================================================================\n",
            "Total params: 151,121\n",
            "Trainable params: 150,475\n",
            "Non-trainable params: 646\n",
            "_________________________________________________________________\n"
          ]
        }
      ]
    },
    {
      "cell_type": "code",
      "source": [
        "#reduce the learnng rate\n",
        "reduce_lr = tf.keras.callbacks.ReduceLROnPlateau(monitor='val_loss', factor=0.1,\n",
        "                              patience=2, min_lr=0.00001)\n",
        "#definindo optimizador\n",
        "optimizer = tf.keras.optimizers.Adam(epsilon=0.01,learning_rate=0.01)"
      ],
      "metadata": {
        "id": "2nota4ef4zJy"
      },
      "execution_count": 11,
      "outputs": []
    },
    {
      "cell_type": "code",
      "source": [
        "# 編譯: 選擇損失函數、優化方法及成效衡量方式\n",
        "model.compile(\n",
        "    optimizer=optimizer,\n",
        "    loss=\"categorical_crossentropy\",\n",
        "    metrics=['accuracy'],\n",
        ")\n",
        "\n",
        "# 進行訓練, 訓練過程會存在 history 變數中\n",
        "history = model.fit_generator(datagen.flow(x_train,y_train,batch_size=batch_size),\n",
        "                        epochs= epoch,validation_data=(x_val,y_val),\n",
        "                        steps_per_epoch=x_train.shape[0] // batch_size\n",
        "                              )"
      ],
      "metadata": {
        "colab": {
          "base_uri": "https://localhost:8080/"
        },
        "id": "Qcx-dj1jZAFR",
        "outputId": "38992eec-8571-4521-ce6b-969f1ce4adc4"
      },
      "execution_count": 12,
      "outputs": [
        {
          "output_type": "stream",
          "name": "stderr",
          "text": [
            "/usr/local/lib/python3.7/dist-packages/ipykernel_launcher.py:11: UserWarning: `Model.fit_generator` is deprecated and will be removed in a future version. Please use `Model.fit`, which supports generators.\n",
            "  # This is added back by InteractiveShellApp.init_path()\n"
          ]
        },
        {
          "output_type": "stream",
          "name": "stdout",
          "text": [
            "Epoch 1/50\n",
            "48/48 [==============================] - 29s 320ms/step - loss: 1.5068 - accuracy: 0.4440 - val_loss: 1.6777 - val_accuracy: 0.2414\n",
            "Epoch 2/50\n",
            "48/48 [==============================] - 14s 287ms/step - loss: 1.1158 - accuracy: 0.5612 - val_loss: 1.9762 - val_accuracy: 0.2559\n",
            "Epoch 3/50\n",
            "48/48 [==============================] - 14s 287ms/step - loss: 1.0433 - accuracy: 0.5825 - val_loss: 1.4868 - val_accuracy: 0.3285\n",
            "Epoch 4/50\n",
            "48/48 [==============================] - 14s 288ms/step - loss: 0.9850 - accuracy: 0.6166 - val_loss: 1.4714 - val_accuracy: 0.3303\n",
            "Epoch 5/50\n",
            "48/48 [==============================] - 14s 288ms/step - loss: 0.9323 - accuracy: 0.6346 - val_loss: 1.2261 - val_accuracy: 0.4719\n",
            "Epoch 6/50\n",
            "48/48 [==============================] - 14s 288ms/step - loss: 0.9077 - accuracy: 0.6467 - val_loss: 1.3038 - val_accuracy: 0.4628\n",
            "Epoch 7/50\n",
            "48/48 [==============================] - 14s 289ms/step - loss: 0.8848 - accuracy: 0.6631 - val_loss: 0.9723 - val_accuracy: 0.6316\n",
            "Epoch 8/50\n",
            "48/48 [==============================] - 14s 288ms/step - loss: 0.8467 - accuracy: 0.6775 - val_loss: 0.9175 - val_accuracy: 0.6425\n",
            "Epoch 9/50\n",
            "48/48 [==============================] - 14s 289ms/step - loss: 0.8348 - accuracy: 0.6850 - val_loss: 0.9206 - val_accuracy: 0.6407\n",
            "Epoch 10/50\n",
            "48/48 [==============================] - 14s 286ms/step - loss: 0.8354 - accuracy: 0.6788 - val_loss: 0.8050 - val_accuracy: 0.7132\n",
            "Epoch 11/50\n",
            "48/48 [==============================] - 14s 288ms/step - loss: 0.7890 - accuracy: 0.6978 - val_loss: 0.8248 - val_accuracy: 0.6860\n",
            "Epoch 12/50\n",
            "48/48 [==============================] - 14s 286ms/step - loss: 0.7701 - accuracy: 0.7010 - val_loss: 0.7835 - val_accuracy: 0.6969\n",
            "Epoch 13/50\n",
            "48/48 [==============================] - 14s 289ms/step - loss: 0.7758 - accuracy: 0.6902 - val_loss: 0.8170 - val_accuracy: 0.7187\n",
            "Epoch 14/50\n",
            "48/48 [==============================] - 14s 289ms/step - loss: 0.7624 - accuracy: 0.7132 - val_loss: 0.7766 - val_accuracy: 0.7078\n",
            "Epoch 15/50\n",
            "48/48 [==============================] - 14s 288ms/step - loss: 0.7481 - accuracy: 0.7135 - val_loss: 0.7511 - val_accuracy: 0.7332\n",
            "Epoch 16/50\n",
            "48/48 [==============================] - 14s 288ms/step - loss: 0.7071 - accuracy: 0.7269 - val_loss: 0.8029 - val_accuracy: 0.7187\n",
            "Epoch 17/50\n",
            "48/48 [==============================] - 14s 289ms/step - loss: 0.7181 - accuracy: 0.7184 - val_loss: 0.7415 - val_accuracy: 0.7024\n",
            "Epoch 18/50\n",
            "48/48 [==============================] - 14s 290ms/step - loss: 0.7032 - accuracy: 0.7286 - val_loss: 0.7513 - val_accuracy: 0.7278\n",
            "Epoch 19/50\n",
            "48/48 [==============================] - 14s 288ms/step - loss: 0.6705 - accuracy: 0.7492 - val_loss: 0.7712 - val_accuracy: 0.7151\n",
            "Epoch 20/50\n",
            "48/48 [==============================] - 14s 287ms/step - loss: 0.7077 - accuracy: 0.7328 - val_loss: 0.8698 - val_accuracy: 0.6570\n",
            "Epoch 21/50\n",
            "48/48 [==============================] - 14s 290ms/step - loss: 0.7030 - accuracy: 0.7324 - val_loss: 0.7512 - val_accuracy: 0.7260\n",
            "Epoch 22/50\n",
            "48/48 [==============================] - 14s 289ms/step - loss: 0.6707 - accuracy: 0.7449 - val_loss: 0.8080 - val_accuracy: 0.7132\n",
            "Epoch 23/50\n",
            "48/48 [==============================] - 14s 286ms/step - loss: 0.6678 - accuracy: 0.7462 - val_loss: 0.6731 - val_accuracy: 0.7495\n",
            "Epoch 24/50\n",
            "48/48 [==============================] - 14s 287ms/step - loss: 0.6918 - accuracy: 0.7367 - val_loss: 0.6958 - val_accuracy: 0.7459\n",
            "Epoch 25/50\n",
            "48/48 [==============================] - 14s 287ms/step - loss: 0.6323 - accuracy: 0.7554 - val_loss: 0.7158 - val_accuracy: 0.7514\n",
            "Epoch 26/50\n",
            "48/48 [==============================] - 14s 293ms/step - loss: 0.6438 - accuracy: 0.7593 - val_loss: 0.7483 - val_accuracy: 0.7350\n",
            "Epoch 27/50\n",
            "48/48 [==============================] - 14s 288ms/step - loss: 0.6331 - accuracy: 0.7554 - val_loss: 0.7189 - val_accuracy: 0.7495\n",
            "Epoch 28/50\n",
            "48/48 [==============================] - 14s 291ms/step - loss: 0.6281 - accuracy: 0.7665 - val_loss: 0.6829 - val_accuracy: 0.7459\n",
            "Epoch 29/50\n",
            "48/48 [==============================] - 14s 288ms/step - loss: 0.6027 - accuracy: 0.7724 - val_loss: 0.6633 - val_accuracy: 0.7623\n",
            "Epoch 30/50\n",
            "48/48 [==============================] - 14s 288ms/step - loss: 0.6006 - accuracy: 0.7773 - val_loss: 0.7146 - val_accuracy: 0.7223\n",
            "Epoch 31/50\n",
            "48/48 [==============================] - 14s 290ms/step - loss: 0.6225 - accuracy: 0.7600 - val_loss: 0.7027 - val_accuracy: 0.7332\n",
            "Epoch 32/50\n",
            "48/48 [==============================] - 14s 289ms/step - loss: 0.6050 - accuracy: 0.7721 - val_loss: 0.6734 - val_accuracy: 0.7532\n",
            "Epoch 33/50\n",
            "48/48 [==============================] - 14s 288ms/step - loss: 0.5852 - accuracy: 0.7770 - val_loss: 0.6407 - val_accuracy: 0.7731\n",
            "Epoch 34/50\n",
            "48/48 [==============================] - 14s 288ms/step - loss: 0.5758 - accuracy: 0.7754 - val_loss: 0.6185 - val_accuracy: 0.7840\n",
            "Epoch 35/50\n",
            "48/48 [==============================] - 14s 289ms/step - loss: 0.5792 - accuracy: 0.7803 - val_loss: 0.6169 - val_accuracy: 0.7586\n",
            "Epoch 36/50\n",
            "48/48 [==============================] - 14s 289ms/step - loss: 0.5709 - accuracy: 0.7783 - val_loss: 0.6600 - val_accuracy: 0.7495\n",
            "Epoch 37/50\n",
            "48/48 [==============================] - 14s 290ms/step - loss: 0.5722 - accuracy: 0.7865 - val_loss: 0.6497 - val_accuracy: 0.7895\n",
            "Epoch 38/50\n",
            "48/48 [==============================] - 14s 290ms/step - loss: 0.6053 - accuracy: 0.7672 - val_loss: 0.6395 - val_accuracy: 0.7604\n",
            "Epoch 39/50\n",
            "48/48 [==============================] - 14s 290ms/step - loss: 0.5834 - accuracy: 0.7832 - val_loss: 0.6363 - val_accuracy: 0.7641\n",
            "Epoch 40/50\n",
            "48/48 [==============================] - 14s 288ms/step - loss: 0.5728 - accuracy: 0.7803 - val_loss: 0.5671 - val_accuracy: 0.8076\n",
            "Epoch 41/50\n",
            "48/48 [==============================] - 14s 288ms/step - loss: 0.5297 - accuracy: 0.7957 - val_loss: 0.6386 - val_accuracy: 0.7604\n",
            "Epoch 42/50\n",
            "48/48 [==============================] - 14s 287ms/step - loss: 0.5477 - accuracy: 0.7931 - val_loss: 0.6169 - val_accuracy: 0.7949\n",
            "Epoch 43/50\n",
            "48/48 [==============================] - 14s 291ms/step - loss: 0.5537 - accuracy: 0.7845 - val_loss: 0.6023 - val_accuracy: 0.7677\n",
            "Epoch 44/50\n",
            "48/48 [==============================] - 14s 287ms/step - loss: 0.5582 - accuracy: 0.7924 - val_loss: 0.6880 - val_accuracy: 0.7495\n",
            "Epoch 45/50\n",
            "48/48 [==============================] - 14s 287ms/step - loss: 0.5227 - accuracy: 0.7970 - val_loss: 0.6023 - val_accuracy: 0.8004\n",
            "Epoch 46/50\n",
            "48/48 [==============================] - 14s 287ms/step - loss: 0.5175 - accuracy: 0.8029 - val_loss: 0.6720 - val_accuracy: 0.7695\n",
            "Epoch 47/50\n",
            "48/48 [==============================] - 14s 288ms/step - loss: 0.5255 - accuracy: 0.8042 - val_loss: 0.6522 - val_accuracy: 0.7623\n",
            "Epoch 48/50\n",
            "48/48 [==============================] - 14s 287ms/step - loss: 0.5244 - accuracy: 0.8078 - val_loss: 0.6418 - val_accuracy: 0.7568\n",
            "Epoch 49/50\n",
            "48/48 [==============================] - 14s 287ms/step - loss: 0.5552 - accuracy: 0.7872 - val_loss: 0.5923 - val_accuracy: 0.7967\n",
            "Epoch 50/50\n",
            "48/48 [==============================] - 14s 289ms/step - loss: 0.5093 - accuracy: 0.8094 - val_loss: 0.7114 - val_accuracy: 0.7350\n"
          ]
        }
      ]
    },
    {
      "cell_type": "code",
      "source": [
        "Y_pred = model.predict(x_val)\n",
        "Y_pred_classes = np.argmax(Y_pred,axis = 1)\n",
        "Y_true = np.argmax(y_val,axis = 1)\n",
        "confusion_mtx = confusion_matrix(Y_true,Y_pred_classes)\n",
        "f,ax = plt.subplots(figsize = (8,8))\n",
        "sns.heatmap(confusion_mtx,annot=True,linewidths = 0.01,cmap=\"Reds\",\n",
        "            linecolor = \"gray\",fmt = \".2f\",ax=ax\n",
        "            )\n",
        "plt.xlabel(\"predicted label\")\n",
        "plt.ylabel(\"True Label\")\n",
        "plt.title(\"confusion matrix\")\n",
        "plt.show()"
      ],
      "metadata": {
        "colab": {
          "base_uri": "https://localhost:8080/",
          "height": 513
        },
        "id": "v38T_f9qCI3T",
        "outputId": "d310ad67-cc63-43b6-e594-a0720de1d555"
      },
      "execution_count": 13,
      "outputs": [
        {
          "output_type": "display_data",
          "data": {
            "text/plain": [
              "<Figure size 576x576 with 2 Axes>"
            ],
            "image/png": "[encoded data removed]"
          },
          "metadata": {
            "needs_background": "light"
          }
        }
      ]
    },
    {
      "cell_type": "code",
      "source": [
        "print(\"Test Accuracy: {0:.2f}%\".format(model.evaluate(x_test,y_test)[1]*100)) #get score acording to test datas\n",
        "print(classification_report(Y_true,Y_pred_classes))"
      ],
      "metadata": {
        "colab": {
          "base_uri": "https://localhost:8080/"
        },
        "id": "eYmBGp44CWoK",
        "outputId": "5d89d3bb-b974-4f33-8725-29109f26421c"
      },
      "execution_count": 15,
      "outputs": [
        {
          "output_type": "stream",
          "name": "stdout",
          "text": [
            "21/21 [==============================] - 0s 17ms/step - loss: 0.8328 - accuracy: 0.6914\n",
            "Test Accuracy: 69.14%\n",
            "              precision    recall  f1-score   support\n",
            "\n",
            "           0       0.77      0.83      0.80       104\n",
            "           1       0.73      0.75      0.74       126\n",
            "           2       0.56      0.82      0.66       103\n",
            "           3       0.97      0.72      0.82        85\n",
            "           4       0.82      0.60      0.70       133\n",
            "\n",
            "    accuracy                           0.74       551\n",
            "   macro avg       0.77      0.74      0.74       551\n",
            "weighted avg       0.76      0.74      0.74       551\n",
            "\n"
          ]
        }
      ]
    },
    {
      "cell_type": "code",
      "source": [
        "# Plot learning curves\n",
        "history_frame = pd.DataFrame(history.history)\n",
        "history_frame.loc[:, ['loss', 'val_loss']].plot()\n",
        "history_frame.loc[:, ['accuracy', 'val_accuracy']].plot();"
      ],
      "metadata": {
        "id": "POCcC6F3oL5t",
        "colab": {
          "base_uri": "https://localhost:8080/",
          "height": 513
        },
        "outputId": "641dc19c-1d62-4e1b-b53f-bb66ef87de7e"
      },
      "execution_count": 16,
      "outputs": [
        {
          "output_type": "display_data",
          "data": {
            "text/plain": [
              "<Figure size 432x288 with 1 Axes>"
            ],
            "image/png": "[encoded data removed]"
          },
          "metadata": {
            "needs_background": "light"
          }
        },
        {
          "output_type": "display_data",
          "data": {
            "text/plain": [
              "<Figure size 432x288 with 1 Axes>"
            ],
            "image/png": "[encoded data removed]"
          },
          "metadata": {
            "needs_background": "light"
          }
        }
      ]
    }
  ]
}