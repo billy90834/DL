{
  "nbformat": 4,
  "nbformat_minor": 0,
  "metadata": {
    "colab": {
      "name": "CNN.ipynb",
      "provenance": [],
      "collapsed_sections": [],
      "mount_file_id": "1xpYa689KzdDXl3lof-61r5ZEBpP1IzI8",
      "authorship_tag": "ABX9TyPkM8au8DM7zsOYdIJgcLyi",
      "include_colab_link": true
    },
    "kernelspec": {
      "name": "python3",
      "display_name": "Python 3"
    },
    "language_info": {
      "name": "python"
    },
    "accelerator": "GPU"
  },
  "cells": [
    {
      "cell_type": "markdown",
      "metadata": {
        "id": "view-in-github",
        "colab_type": "text"
      },
      "source": [
        "<a href=\"https://colab.research.google.com/github/billy90834/DL/blob/main/CNN.ipynb\" target=\"_parent\"><img src=\"https://colab.research.google.com/assets/colab-badge.svg\" alt=\"Open In Colab\"/></a>"
      ]
    },
    {
      "cell_type": "code",
      "execution_count": null,
      "metadata": {
        "id": "JSdnR7VdfqJI"
      },
      "outputs": [],
      "source": [
        "import os\n",
        "# Ignore  the warnings\n",
        "import matplotlib.pyplot as plt\n",
        "import numpy as np\n",
        "import pandas as pd\n",
        "import cv2\n",
        "import seaborn as sns\n",
        "import random as rn\n",
        "from sklearn.model_selection import train_test_split\n",
        "import glob as gb\n",
        "#imports \n",
        "from tensorflow import keras\n",
        "from tensorflow.keras import layers\n",
        "from tensorflow.keras.layers.experimental import preprocessing\n",
        "from sklearn.metrics import confusion_matrix, classification_report\n",
        "\n",
        "import tensorflow as tf\n",
        "from tensorflow.keras.preprocessing import image_dataset_from_directory\n",
        "from keras.preprocessing.image import ImageDataGenerator\n",
        "\n",
        "from tensorflow.keras import models\n",
        "from scipy.ndimage import zoom\n",
        "\n",
        "from keras.models import load_model\n",
        "from keras.applications.mobilenet_v2 import  preprocess_input ,MobileNetV2"
      ]
    },
    {
      "cell_type": "code",
      "source": [
        "x_ = list()\n",
        "y = list()\n",
        "IMG_SIZE = 128\n",
        "for i in os.listdir(\"/content/drive/MyDrive/flowers/daisy\"):\n",
        "    try:\n",
        "        path = \"/content/drive/MyDrive/flowers/daisy/\"+i\n",
        "        img = plt.imread(path)\n",
        "        img = cv2.resize(img,(IMG_SIZE,IMG_SIZE))\n",
        "        x_.append(img)\n",
        "        y.append(0)\n",
        "    except:\n",
        "        None\n",
        "for i in os.listdir(\"/content/drive/MyDrive/flowers/dandelion\"):\n",
        "    try:\n",
        "        path = \"/content/drive/MyDrive/flowers/dandelion/\"+i\n",
        "        img = plt.imread(path)\n",
        "        img = cv2.resize(img,(IMG_SIZE,IMG_SIZE))\n",
        "        x_.append(img)\n",
        "        y.append(1)\n",
        "    except:\n",
        "        None\n",
        "for i in os.listdir(\"/content/drive/MyDrive/flowers/rose\"):\n",
        "    try:\n",
        "        path = \"/content/drive/MyDrive/flowers/rose/\"+i\n",
        "        img = plt.imread(path)\n",
        "        img = cv2.resize(img,(IMG_SIZE,IMG_SIZE))\n",
        "        x_.append(img)\n",
        "        y.append(2)\n",
        "    except:\n",
        "        None\n",
        "for i in os.listdir(\"/content/drive/MyDrive/flowers/sunflower\"):\n",
        "    try:\n",
        "        path = \"/content/drive/MyDrive/flowers/sunflower/\"+i\n",
        "        img = plt.imread(path)\n",
        "        img = cv2.resize(img,(IMG_SIZE,IMG_SIZE))\n",
        "        x_.append(img)\n",
        "        y.append(3)\n",
        "    except:\n",
        "        None\n",
        "for i in os.listdir(\"/content/drive/MyDrive/flowers/tulip\"):\n",
        "    try:\n",
        "        path = \"/content/drive/MyDrive/flowers/tulip/\"+i\n",
        "        img = plt.imread(path)\n",
        "        img = cv2.resize(img,(IMG_SIZE,IMG_SIZE))\n",
        "        x_.append(img)\n",
        "        y.append(4)\n",
        "    except:\n",
        "        None\n",
        "x_ = np.array(x_)"
      ],
      "metadata": {
        "id": "m-68gJ_95K4d"
      },
      "execution_count": null,
      "outputs": []
    },
    {
      "cell_type": "code",
      "source": [
        "# preprocessing data\n",
        "from keras.utils.np_utils import to_categorical\n",
        "y = to_categorical(y,num_classes = 5)  # y 值轉成 one-hot encoding,分類數=5"
      ],
      "metadata": {
        "id": "cd1nIncw6eMo"
      },
      "execution_count": null,
      "outputs": []
    },
    {
      "cell_type": "code",
      "source": [
        "# test split\n",
        "x_train,x_test,y_train,y_test = train_test_split(x_,y,test_size = 0.15,random_state = 42)\n",
        "# validation and trains split\n",
        "x_train,x_val,y_train,y_val = train_test_split(x_train,y_train,test_size = 0.15,random_state = 42)"
      ],
      "metadata": {
        "id": "sE6xwMUu6uR-"
      },
      "execution_count": null,
      "outputs": []
    },
    {
      "cell_type": "code",
      "source": [
        "x_train.shape,x_test.shape,x_val.shape"
      ],
      "metadata": {
        "colab": {
          "base_uri": "https://localhost:8080/"
        },
        "id": "7G_xaGVp7ix9",
        "outputId": "a08c09f3-248d-4655-81e5-dec8f4c12ff9"
      },
      "execution_count": null,
      "outputs": [
        {
          "output_type": "execute_result",
          "data": {
            "text/plain": [
              "((3118, 128, 128, 3), (648, 128, 128, 3), (551, 128, 128, 3))"
            ]
          },
          "metadata": {},
          "execution_count": 5
        }
      ]
    },
    {
      "cell_type": "code",
      "source": [
        "# image data augmentation 資料增強=>加強CNN辨識率\n",
        "datagen = ImageDataGenerator(\n",
        "    featurewise_center=False,  # set input mean to 0 over the dataset\n",
        "    samplewise_center=False,  # set each sample mean to 0\n",
        "    featurewise_std_normalization=False,  # divide inputs by std of the dataset\n",
        "    samplewise_std_normalization=False,  # divide each input by its std\n",
        "    rotation_range=60,  # randomly rotate images in the range (60, 0 to 180)\n",
        "    zoom_range = 0.1, # Randomly zoom image \n",
        "    width_shift_range=0.1,  # randomly shift images horizontally (fraction of total width)\n",
        "    height_shift_range=0.1,\n",
        "    shear_range=0.1,\n",
        "    fill_mode = \"reflect\"\n",
        "    ) \n",
        "\n",
        "datagen.fit(x_train)"
      ],
      "metadata": {
        "id": "YShqNBMf1HfL"
      },
      "execution_count": null,
      "outputs": []
    },
    {
      "cell_type": "code",
      "source": [
        "#data可視化\n",
        "sns.barplot(x=['tulip','roses','dandelion','sunflower','daisy'] , y=[len(os.listdir('/content/drive/MyDrive/flowers/tulip')),\n",
        "                                    len(os.listdir('/content/drive/MyDrive/flowers/rose')),\n",
        "                                    len(os.listdir('/content/drive/MyDrive/flowers/dandelion')),\n",
        "                                    len(os.listdir('/content/drive/MyDrive/flowers/sunflower')),\n",
        "                                    len(os.listdir('/content/drive/MyDrive/flowers/daisy'))])"
      ],
      "metadata": {
        "colab": {
          "base_uri": "https://localhost:8080/",
          "height": 282
        },
        "id": "ln2G2Q09fdxP",
        "outputId": "cc25122d-8796-461f-b518-04af9e80f36f"
      },
      "execution_count": null,
      "outputs": [
        {
          "output_type": "execute_result",
          "data": {
            "text/plain": [
              "<matplotlib.axes._subplots.AxesSubplot at 0x7f708f7b0e90>"
            ]
          },
          "metadata": {},
          "execution_count": 17
        },
        {
          "output_type": "display_data",
          "data": {
            "text/plain": [
              "<Figure size 432x288 with 1 Axes>"
            ],
            "image/png": "[encoded data removed]"
          },
          "metadata": {
            "needs_background": "light"
          }
        }
      ]
    },
    {
      "cell_type": "code",
      "source": [
        "##影像資料增補\n",
        "data_augmentation = keras.Sequential([\n",
        "    preprocessing.RandomZoom(0.1),\n",
        "    preprocessing.RandomFlip(mode=\"horizontal\"),\n",
        "    preprocessing.RandomRotation(factor=0.1),\n",
        "    \n",
        "])"
      ],
      "metadata": {
        "id": "p6ls7KgHmkAW"
      },
      "execution_count": null,
      "outputs": []
    },
    {
      "cell_type": "code",
      "source": [
        "epoch = 50 # 定義訓練週期\n",
        "batch_size = 64 # 定義梯度下降批量"
      ],
      "metadata": {
        "id": "n8blfrRX8uCe"
      },
      "execution_count": null,
      "outputs": []
    },
    {
      "cell_type": "code",
      "source": [
        "# 建立的模型\n",
        "model = keras.Sequential([\n",
        "    \n",
        "    \n",
        "    layers.InputLayer(input_shape=[128, 128, 3]),\n",
        "    \n",
        "    #Data preprocessing\n",
        "    data_augmentation,\n",
        "    \n",
        "    layers.Rescaling(1./255),# 轉換色彩 0~255 資料為 0~1\n",
        "\n",
        "    \n",
        "    #Base\n",
        "    #layer 1\n",
        "    layers.BatchNormalization(),#BN reduce training times,and make very deep net trainable\n",
        "    layers.Conv2D(filters=64, kernel_size=3, activation=\"relu\", padding='same'), ##filter為16, Kernel size為3, Padding為(same)\n",
        "    layers.MaxPool2D(pool_size=(2,2),strides=(2,2)),# 建立池化層，池化大小=2x2，取最大值\n",
        "    layers.Dropout(0.2),# Drop掉部分神經元避免overfitting\n",
        "    #layer 2\n",
        "    layers.BatchNormalization(),\n",
        "    layers.Conv2D(filters=64, kernel_size=3, activation=\"relu\", padding='same'), \n",
        "    layers.MaxPool2D(pool_size=(2,2),strides=(2,2)),\n",
        "    layers.Dropout(0.3),\n",
        "    #layer 3\n",
        "    layers.BatchNormalization(),\n",
        "    layers.Conv2D(filters=64, kernel_size=3, activation=\"relu\", padding='same'), \n",
        "    layers.MaxPool2D(pool_size=(2,2),strides=(2,2)),\n",
        "    layers.Dropout(0.3),\n",
        "    #layer 4\n",
        "    layers.BatchNormalization(),\n",
        "    layers.Conv2D(filters=64, kernel_size=3, activation=\"relu\", padding='same'), \n",
        "    layers.MaxPool2D(pool_size=(2,2),strides=(2,2)),\n",
        "    layers.Dropout(0.2),\n",
        "    #layer 5\n",
        "    layers.BatchNormalization(),\n",
        "    layers.Conv2D(filters=64, kernel_size=3, activation=\"relu\", padding='same'),\n",
        "    layers.MaxPool2D(pool_size=(2,2),strides=(2,2)),\n",
        "    layers.Dropout(0.3), \n",
        "    # Head\n",
        "    layers.BatchNormalization(),\n",
        "    layers.GlobalMaxPooling2D(),\n",
        "    layers.Dense(5,activation=\"softmax\") # 使用 softmax activation function，將結果分類\n",
        "])"
      ],
      "metadata": {
        "id": "8m8K9_7U9je2"
      },
      "execution_count": null,
      "outputs": []
    },
    {
      "cell_type": "code",
      "source": [
        "# 輸出模型摘要資訊\n",
        "model.summary()"
      ],
      "metadata": {
        "colab": {
          "base_uri": "https://localhost:8080/"
        },
        "id": "jH64FlfYs9Jh",
        "outputId": "bd270949-b0b2-4ba7-fe72-cb8ada307b8a"
      },
      "execution_count": null,
      "outputs": [
        {
          "output_type": "stream",
          "name": "stdout",
          "text": [
            "Model: \"sequential_1\"\n",
            "_________________________________________________________________\n",
            " Layer (type)                Output Shape              Param #   \n",
            "=================================================================\n",
            " sequential (Sequential)     (None, 128, 128, 3)       0         \n",
            "                                                                 \n",
            " rescaling (Rescaling)       (None, 128, 128, 3)       0         \n",
            "                                                                 \n",
            " batch_normalization (BatchN  (None, 128, 128, 3)      12        \n",
            " ormalization)                                                   \n",
            "                                                                 \n",
            " conv2d (Conv2D)             (None, 128, 128, 64)      1792      \n",
            "                                                                 \n",
            " max_pooling2d (MaxPooling2D  (None, 64, 64, 64)       0         \n",
            " )                                                               \n",
            "                                                                 \n",
            " dropout (Dropout)           (None, 64, 64, 64)        0         \n",
            "                                                                 \n",
            " batch_normalization_1 (Batc  (None, 64, 64, 64)       256       \n",
            " hNormalization)                                                 \n",
            "                                                                 \n",
            " conv2d_1 (Conv2D)           (None, 64, 64, 64)        36928     \n",
            "                                                                 \n",
            " max_pooling2d_1 (MaxPooling  (None, 32, 32, 64)       0         \n",
            " 2D)                                                             \n",
            "                                                                 \n",
            " dropout_1 (Dropout)         (None, 32, 32, 64)        0         \n",
            "                                                                 \n",
            " batch_normalization_2 (Batc  (None, 32, 32, 64)       256       \n",
            " hNormalization)                                                 \n",
            "                                                                 \n",
            " conv2d_2 (Conv2D)           (None, 32, 32, 64)        36928     \n",
            "                                                                 \n",
            " max_pooling2d_2 (MaxPooling  (None, 16, 16, 64)       0         \n",
            " 2D)                                                             \n",
            "                                                                 \n",
            " dropout_2 (Dropout)         (None, 16, 16, 64)        0         \n",
            "                                                                 \n",
            " batch_normalization_3 (Batc  (None, 16, 16, 64)       256       \n",
            " hNormalization)                                                 \n",
            "                                                                 \n",
            " conv2d_3 (Conv2D)           (None, 16, 16, 64)        36928     \n",
            "                                                                 \n",
            " max_pooling2d_3 (MaxPooling  (None, 8, 8, 64)         0         \n",
            " 2D)                                                             \n",
            "                                                                 \n",
            " dropout_3 (Dropout)         (None, 8, 8, 64)          0         \n",
            "                                                                 \n",
            " batch_normalization_4 (Batc  (None, 8, 8, 64)         256       \n",
            " hNormalization)                                                 \n",
            "                                                                 \n",
            " conv2d_4 (Conv2D)           (None, 8, 8, 64)          36928     \n",
            "                                                                 \n",
            " max_pooling2d_4 (MaxPooling  (None, 4, 4, 64)         0         \n",
            " 2D)                                                             \n",
            "                                                                 \n",
            " dropout_4 (Dropout)         (None, 4, 4, 64)          0         \n",
            "                                                                 \n",
            " batch_normalization_5 (Batc  (None, 4, 4, 64)         256       \n",
            " hNormalization)                                                 \n",
            "                                                                 \n",
            " global_max_pooling2d (Globa  (None, 64)               0         \n",
            " lMaxPooling2D)                                                  \n",
            "                                                                 \n",
            " dense (Dense)               (None, 5)                 325       \n",
            "                                                                 \n",
            "=================================================================\n",
            "Total params: 151,121\n",
            "Trainable params: 150,475\n",
            "Non-trainable params: 646\n",
            "_________________________________________________________________\n"
          ]
        }
      ]
    },
    {
      "cell_type": "code",
      "source": [
        "#reduce the learnng rate\n",
        "reduce_lr = tf.keras.callbacks.ReduceLROnPlateau(monitor='val_loss', factor=0.1,\n",
        "                              patience=2, min_lr=0.00001)\n",
        "#definindo optimizador\n",
        "optimizer = tf.keras.optimizers.Adam(epsilon=0.01,learning_rate=0.01)"
      ],
      "metadata": {
        "id": "2nota4ef4zJy"
      },
      "execution_count": null,
      "outputs": []
    },
    {
      "cell_type": "code",
      "source": [
        "# 編譯: 選擇損失函數、優化方法及成效衡量方式\n",
        "model.compile(\n",
        "    optimizer=optimizer,\n",
        "    loss=\"categorical_crossentropy\",\n",
        "    metrics=['accuracy'],\n",
        ")\n",
        "\n",
        "# 進行訓練, 訓練過程會存在 history 變數中\n",
        "history = model.fit(datagen.flow(x_train,y_train,batch_size=batch_size),\n",
        "                        epochs= epoch,validation_data=(x_val,y_val),\n",
        "                        steps_per_epoch=x_train.shape[0] // batch_size\n",
        "                              )"
      ],
      "metadata": {
        "colab": {
          "base_uri": "https://localhost:8080/"
        },
        "id": "Qcx-dj1jZAFR",
        "outputId": "0bbe2395-da3f-47e6-9ad4-e08e3e8f1488"
      },
      "execution_count": null,
      "outputs": [
        {
          "output_type": "stream",
          "name": "stdout",
          "text": [
            "Epoch 1/50\n",
            "48/48 [==============================] - 16s 297ms/step - loss: 0.5111 - accuracy: 0.8006 - val_loss: 0.6154 - val_accuracy: 0.7713\n",
            "Epoch 2/50\n",
            "48/48 [==============================] - 14s 292ms/step - loss: 0.4821 - accuracy: 0.8219 - val_loss: 0.6532 - val_accuracy: 0.7477\n",
            "Epoch 3/50\n",
            "48/48 [==============================] - 14s 288ms/step - loss: 0.5002 - accuracy: 0.8114 - val_loss: 0.6758 - val_accuracy: 0.7695\n",
            "Epoch 4/50\n",
            "48/48 [==============================] - 14s 290ms/step - loss: 0.5132 - accuracy: 0.8052 - val_loss: 0.6401 - val_accuracy: 0.7659\n",
            "Epoch 5/50\n",
            "48/48 [==============================] - 14s 291ms/step - loss: 0.5243 - accuracy: 0.8035 - val_loss: 0.6746 - val_accuracy: 0.7387\n",
            "Epoch 6/50\n",
            "48/48 [==============================] - 14s 296ms/step - loss: 0.4900 - accuracy: 0.8176 - val_loss: 0.5997 - val_accuracy: 0.7913\n",
            "Epoch 7/50\n",
            "48/48 [==============================] - 14s 292ms/step - loss: 0.4811 - accuracy: 0.8206 - val_loss: 0.6079 - val_accuracy: 0.7768\n",
            "Epoch 8/50\n",
            "48/48 [==============================] - 14s 287ms/step - loss: 0.4757 - accuracy: 0.8176 - val_loss: 0.6247 - val_accuracy: 0.7858\n",
            "Epoch 9/50\n",
            "48/48 [==============================] - 14s 290ms/step - loss: 0.4615 - accuracy: 0.8271 - val_loss: 0.6453 - val_accuracy: 0.7623\n",
            "Epoch 10/50\n",
            "48/48 [==============================] - 14s 288ms/step - loss: 0.4706 - accuracy: 0.8215 - val_loss: 0.5456 - val_accuracy: 0.8113\n",
            "Epoch 11/50\n",
            "48/48 [==============================] - 14s 289ms/step - loss: 0.4994 - accuracy: 0.8062 - val_loss: 0.6499 - val_accuracy: 0.7623\n",
            "Epoch 12/50\n",
            "48/48 [==============================] - 14s 292ms/step - loss: 0.4879 - accuracy: 0.8212 - val_loss: 0.7287 - val_accuracy: 0.7332\n",
            "Epoch 13/50\n",
            "48/48 [==============================] - 14s 289ms/step - loss: 0.5038 - accuracy: 0.8157 - val_loss: 0.5903 - val_accuracy: 0.7913\n",
            "Epoch 14/50\n",
            "48/48 [==============================] - 14s 292ms/step - loss: 0.4744 - accuracy: 0.8209 - val_loss: 0.5721 - val_accuracy: 0.7985\n",
            "Epoch 15/50\n",
            "48/48 [==============================] - 14s 292ms/step - loss: 0.4708 - accuracy: 0.8255 - val_loss: 0.5820 - val_accuracy: 0.7967\n",
            "Epoch 16/50\n",
            "48/48 [==============================] - 14s 290ms/step - loss: 0.4504 - accuracy: 0.8346 - val_loss: 0.5375 - val_accuracy: 0.8040\n",
            "Epoch 17/50\n",
            "48/48 [==============================] - 14s 287ms/step - loss: 0.4633 - accuracy: 0.8242 - val_loss: 0.6568 - val_accuracy: 0.7604\n",
            "Epoch 18/50\n",
            "48/48 [==============================] - 14s 286ms/step - loss: 0.4736 - accuracy: 0.8127 - val_loss: 0.7900 - val_accuracy: 0.7096\n",
            "Epoch 19/50\n",
            "48/48 [==============================] - 14s 289ms/step - loss: 0.4518 - accuracy: 0.8333 - val_loss: 0.5882 - val_accuracy: 0.7877\n",
            "Epoch 20/50\n",
            "48/48 [==============================] - 14s 288ms/step - loss: 0.4478 - accuracy: 0.8284 - val_loss: 0.6262 - val_accuracy: 0.7949\n",
            "Epoch 21/50\n",
            "48/48 [==============================] - 14s 287ms/step - loss: 0.4396 - accuracy: 0.8350 - val_loss: 0.6173 - val_accuracy: 0.7877\n",
            "Epoch 22/50\n",
            "48/48 [==============================] - 14s 288ms/step - loss: 0.4443 - accuracy: 0.8369 - val_loss: 0.5771 - val_accuracy: 0.7877\n",
            "Epoch 23/50\n",
            "48/48 [==============================] - 14s 287ms/step - loss: 0.4376 - accuracy: 0.8327 - val_loss: 0.5679 - val_accuracy: 0.7822\n",
            "Epoch 24/50\n",
            "48/48 [==============================] - 14s 287ms/step - loss: 0.4472 - accuracy: 0.8229 - val_loss: 0.5558 - val_accuracy: 0.7967\n",
            "Epoch 25/50\n",
            "48/48 [==============================] - 14s 286ms/step - loss: 0.4327 - accuracy: 0.8343 - val_loss: 0.5860 - val_accuracy: 0.7931\n",
            "Epoch 26/50\n",
            "48/48 [==============================] - 14s 290ms/step - loss: 0.4232 - accuracy: 0.8445 - val_loss: 0.5682 - val_accuracy: 0.7931\n",
            "Epoch 27/50\n",
            "48/48 [==============================] - 14s 285ms/step - loss: 0.4440 - accuracy: 0.8333 - val_loss: 0.5972 - val_accuracy: 0.7623\n",
            "Epoch 28/50\n",
            "48/48 [==============================] - 14s 287ms/step - loss: 0.4321 - accuracy: 0.8376 - val_loss: 0.5079 - val_accuracy: 0.8203\n",
            "Epoch 29/50\n",
            "48/48 [==============================] - 14s 291ms/step - loss: 0.4151 - accuracy: 0.8458 - val_loss: 0.6065 - val_accuracy: 0.7877\n",
            "Epoch 30/50\n",
            "48/48 [==============================] - 14s 287ms/step - loss: 0.4442 - accuracy: 0.8330 - val_loss: 0.5517 - val_accuracy: 0.8040\n",
            "Epoch 31/50\n",
            "48/48 [==============================] - 14s 289ms/step - loss: 0.4209 - accuracy: 0.8356 - val_loss: 0.6245 - val_accuracy: 0.7586\n",
            "Epoch 32/50\n",
            "48/48 [==============================] - 14s 284ms/step - loss: 0.4059 - accuracy: 0.8513 - val_loss: 0.5784 - val_accuracy: 0.7786\n",
            "Epoch 33/50\n",
            "48/48 [==============================] - 14s 289ms/step - loss: 0.4332 - accuracy: 0.8307 - val_loss: 0.5589 - val_accuracy: 0.7931\n",
            "Epoch 34/50\n",
            "48/48 [==============================] - 14s 286ms/step - loss: 0.4165 - accuracy: 0.8477 - val_loss: 0.5601 - val_accuracy: 0.7840\n",
            "Epoch 35/50\n",
            "48/48 [==============================] - 14s 287ms/step - loss: 0.4041 - accuracy: 0.8468 - val_loss: 0.5426 - val_accuracy: 0.8131\n",
            "Epoch 36/50\n",
            "48/48 [==============================] - 14s 287ms/step - loss: 0.4103 - accuracy: 0.8464 - val_loss: 0.6784 - val_accuracy: 0.7623\n",
            "Epoch 37/50\n",
            "48/48 [==============================] - 14s 288ms/step - loss: 0.4115 - accuracy: 0.8477 - val_loss: 0.5801 - val_accuracy: 0.7913\n",
            "Epoch 38/50\n",
            "48/48 [==============================] - 14s 287ms/step - loss: 0.3920 - accuracy: 0.8507 - val_loss: 0.5447 - val_accuracy: 0.8113\n",
            "Epoch 39/50\n",
            "48/48 [==============================] - 14s 287ms/step - loss: 0.3857 - accuracy: 0.8481 - val_loss: 0.6047 - val_accuracy: 0.7804\n",
            "Epoch 40/50\n",
            "48/48 [==============================] - 14s 288ms/step - loss: 0.3986 - accuracy: 0.8461 - val_loss: 0.6052 - val_accuracy: 0.7786\n",
            "Epoch 41/50\n",
            "48/48 [==============================] - 14s 288ms/step - loss: 0.3912 - accuracy: 0.8520 - val_loss: 0.5465 - val_accuracy: 0.8076\n",
            "Epoch 42/50\n",
            "48/48 [==============================] - 14s 286ms/step - loss: 0.3848 - accuracy: 0.8520 - val_loss: 0.5813 - val_accuracy: 0.8058\n",
            "Epoch 43/50\n",
            "48/48 [==============================] - 14s 286ms/step - loss: 0.4069 - accuracy: 0.8448 - val_loss: 0.5117 - val_accuracy: 0.8167\n",
            "Epoch 44/50\n",
            "48/48 [==============================] - 14s 288ms/step - loss: 0.4058 - accuracy: 0.8451 - val_loss: 0.6433 - val_accuracy: 0.7659\n",
            "Epoch 45/50\n",
            "48/48 [==============================] - 14s 286ms/step - loss: 0.3936 - accuracy: 0.8523 - val_loss: 0.5867 - val_accuracy: 0.7840\n",
            "Epoch 46/50\n",
            "48/48 [==============================] - 14s 286ms/step - loss: 0.3896 - accuracy: 0.8569 - val_loss: 0.5761 - val_accuracy: 0.7768\n",
            "Epoch 47/50\n",
            "48/48 [==============================] - 14s 289ms/step - loss: 0.3782 - accuracy: 0.8579 - val_loss: 0.5345 - val_accuracy: 0.8022\n",
            "Epoch 48/50\n",
            "48/48 [==============================] - 14s 289ms/step - loss: 0.3602 - accuracy: 0.8631 - val_loss: 0.5570 - val_accuracy: 0.8076\n",
            "Epoch 49/50\n",
            "48/48 [==============================] - 14s 287ms/step - loss: 0.3866 - accuracy: 0.8566 - val_loss: 0.5991 - val_accuracy: 0.7804\n",
            "Epoch 50/50\n",
            "48/48 [==============================] - 14s 288ms/step - loss: 0.3883 - accuracy: 0.8513 - val_loss: 0.6374 - val_accuracy: 0.7731\n"
          ]
        }
      ]
    },
    {
      "cell_type": "code",
      "source": [
        "Y_pred = model.predict(x_val)\n",
        "Y_pred_classes = np.argmax(Y_pred,axis = 1)\n",
        "Y_true = np.argmax(y_val,axis = 1)\n",
        "confusion_mtx = confusion_matrix(Y_true,Y_pred_classes)\n",
        "f,ax = plt.subplots(figsize = (8,8))\n",
        "sns.heatmap(confusion_mtx,annot=True,linewidths = 0.01,cmap=\"Reds\",\n",
        "            linecolor = \"gray\",fmt = \".2f\",ax=ax\n",
        "            )\n",
        "plt.xlabel(\"predicted label\")\n",
        "plt.ylabel(\"True Label\")\n",
        "plt.title(\"confusion matrix\")\n",
        "plt.show()"
      ],
      "metadata": {
        "colab": {
          "base_uri": "https://localhost:8080/",
          "height": 513
        },
        "id": "v38T_f9qCI3T",
        "outputId": "de88d2aa-1b1f-473d-a031-a084bd327f31"
      },
      "execution_count": null,
      "outputs": [
        {
          "output_type": "display_data",
          "data": {
            "text/plain": [
              "<Figure size 576x576 with 2 Axes>"
            ],
            "image/png": "[encoded data removed]"
          },
          "metadata": {
            "needs_background": "light"
          }
        }
      ]
    },
    {
      "cell_type": "code",
      "source": [
        "print(\"Test Accuracy: {0:.2f}%\".format(model.evaluate(x_test,y_test)[1]*100)) #get score acording to test datas\n",
        "print(classification_report(Y_true,Y_pred_classes))"
      ],
      "metadata": {
        "colab": {
          "base_uri": "https://localhost:8080/"
        },
        "id": "eYmBGp44CWoK",
        "outputId": "fe4edfb8-2bb9-420d-d158-408a2318d3b6"
      },
      "execution_count": null,
      "outputs": [
        {
          "output_type": "stream",
          "name": "stdout",
          "text": [
            "21/21 [==============================] - 0s 20ms/step - loss: 0.7024 - accuracy: 0.7392\n",
            "Test Accuracy: 73.92%\n",
            "              precision    recall  f1-score   support\n",
            "\n",
            "           0       0.75      0.86      0.80       104\n",
            "           1       0.83      0.85      0.84       126\n",
            "           2       0.60      0.86      0.71       103\n",
            "           3       0.94      0.85      0.89        85\n",
            "           4       0.90      0.52      0.66       133\n",
            "\n",
            "    accuracy                           0.77       551\n",
            "   macro avg       0.80      0.79      0.78       551\n",
            "weighted avg       0.80      0.77      0.77       551\n",
            "\n"
          ]
        }
      ]
    },
    {
      "cell_type": "code",
      "source": [
        "# Plot learning curves\n",
        "history_frame = pd.DataFrame(history.history)\n",
        "history_frame.loc[:, ['loss', 'val_loss']].plot()\n",
        "history_frame.loc[:, ['accuracy', 'val_accuracy']].plot();"
      ],
      "metadata": {
        "id": "POCcC6F3oL5t",
        "colab": {
          "base_uri": "https://localhost:8080/",
          "height": 513
        },
        "outputId": "40af35d1-c1aa-47d0-b62e-cff59db521d4"
      },
      "execution_count": null,
      "outputs": [
        {
          "output_type": "display_data",
          "data": {
            "text/plain": [
              "<Figure size 432x288 with 1 Axes>"
            ],
            "image/png": "[encoded data removed]"
          },
          "metadata": {
            "needs_background": "light"
          }
        },
        {
          "output_type": "display_data",
          "data": {
            "text/plain": [
              "<Figure size 432x288 with 1 Axes>"
            ],
            "image/png": "[encoded data removed]"
          },
          "metadata": {
            "needs_background": "light"
          }
        }
      ]
    }
  ]
}